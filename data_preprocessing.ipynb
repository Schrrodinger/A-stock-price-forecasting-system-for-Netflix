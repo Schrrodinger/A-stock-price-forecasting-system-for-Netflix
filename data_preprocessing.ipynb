{
 "cells": [
  {
   "cell_type": "code",
   "id": "initial_id",
   "metadata": {
    "collapsed": true,
    "ExecuteTime": {
     "end_time": "2024-12-23T16:00:14.090819Z",
     "start_time": "2024-12-23T16:00:13.914020Z"
    }
   },
   "source": [
    "from pyspark.sql import SparkSession, Window\n",
    "from pyspark.sql.functions import col, expr, desc, sqrt, mean, stddev, percentile_approx, last, coalesce\n",
    "from pyspark.sql.types import DoubleType, DateType\n",
    "import matplotlib.pyplot as plt\n",
    "import seaborn as sns\n",
    "import pandas as pd\n",
    "import os"
   ],
   "outputs": [],
   "execution_count": 1
  },
  {
   "metadata": {
    "ExecuteTime": {
     "end_time": "2024-12-23T16:00:47.093914Z",
     "start_time": "2024-12-23T16:00:14.124315Z"
    }
   },
   "cell_type": "code",
   "source": [
    "# Initialize Spark session\n",
    "spark = SparkSession.builder \\\n",
    "    .appName(\"NetflixStockPreprocessing\") \\\n",
    "    .getOrCreate()"
   ],
   "id": "cb961da2bbdd3169",
   "outputs": [],
   "execution_count": 2
  },
  {
   "metadata": {
    "ExecuteTime": {
     "end_time": "2024-12-23T16:00:47.969220Z",
     "start_time": "2024-12-23T16:00:47.956800Z"
    }
   },
   "cell_type": "code",
   "source": [
    "# Create directory for plots if it doesn't exist\n",
    "os.makedirs('distribution_plots', exist_ok=True)"
   ],
   "id": "62af7e30bd5e76b0",
   "outputs": [],
   "execution_count": 3
  },
  {
   "metadata": {
    "ExecuteTime": {
     "end_time": "2024-12-23T16:00:48.003472Z",
     "start_time": "2024-12-23T16:00:47.987043Z"
    }
   },
   "cell_type": "code",
   "source": [
    "# Function for detailed outlier analysis\n",
    "def comprehensive_outlier_detection(spark_df, numeric_columns):\n",
    "    outlier_results = {}"
   ],
   "id": "101470c3aec05f41",
   "outputs": [],
   "execution_count": 4
  },
  {
   "metadata": {},
   "cell_type": "markdown",
   "source": "OUTLIER",
   "id": "75544b72e5eb6774"
  },
  {
   "metadata": {
    "ExecuteTime": {
     "end_time": "2024-12-23T16:00:48.055745Z",
     "start_time": "2024-12-23T16:00:48.031421Z"
    }
   },
   "cell_type": "code",
   "source": [
    "# Function for detailed outlier analysis\n",
    "def comprehensive_outlier_detection(spark_df, numeric_columns):\n",
    "    outlier_results = {}\n",
    "    \n",
    "    # Convert to pandas for visualization\n",
    "    pandas_df = spark_df.toPandas()\n",
    "    \n",
    "    # Create a figure for boxplots\n",
    "    plt.figure(figsize=(15, 6))\n",
    "    \n",
    "    # Analyze each numeric column\n",
    "    for idx, column in enumerate(numeric_columns, 1):\n",
    "        # Calculate statistics using Spark\n",
    "        stats = spark_df.select(\n",
    "            mean(col(column)).alias('mean'),\n",
    "            stddev(col(column)).alias('stddev'),\n",
    "            expr(f'percentile_approx({column}, array(0.25, 0.75), 10000)').alias('quartiles')\n",
    "        ).collect()[0]\n",
    "        \n",
    "        # Extract values\n",
    "        q1 = float(stats['quartiles'][0])\n",
    "        q3 = float(stats['quartiles'][1])\n",
    "        iqr = q3 - q1\n",
    "        \n",
    "        # Define bounds\n",
    "        lower_bound = q1 - 1.5 * iqr\n",
    "        upper_bound = q3 + 1.5 * iqr\n",
    "        \n",
    "        # Count outliers using Spark\n",
    "        outliers_count = spark_df.filter(\n",
    "            (col(column) < lower_bound) | (col(column) > upper_bound)\n",
    "        ).count()\n",
    "        \n",
    "        # Get outlier rows\n",
    "        outliers = spark_df.filter(\n",
    "            (col(column) < lower_bound) | (col(column) > upper_bound)\n",
    "        ).toPandas()\n",
    "        \n",
    "        # Store results\n",
    "        outlier_results[column] = {\n",
    "            'total_outliers': outliers_count,\n",
    "            'percentage_outliers': (outliers_count / spark_df.count()) * 100,\n",
    "            'lower_bound': lower_bound,\n",
    "            'upper_bound': upper_bound,\n",
    "            'outliers': outliers\n",
    "        }\n",
    "        \n",
    "        # Print detailed outlier information\n",
    "        print(f\"\\nOutlier Analysis for {column}:\")\n",
    "        print(f\"Total Outliers: {outliers_count}\")\n",
    "        print(f\"Percentage of Outliers: {(outliers_count / spark_df.count()) * 100:.2f}%\")\n",
    "        print(f\"Lower Bound: {lower_bound}\")\n",
    "        print(f\"Upper Bound: {upper_bound}\")\n",
    "        \n",
    "        # If there are outliers, print them\n",
    "        if outliers_count > 0:\n",
    "            print(\"\\nOutlier Details:\")\n",
    "            print(outliers)\n",
    "        \n",
    "        # Create boxplot\n",
    "        plt.subplot(1, len(numeric_columns), idx)\n",
    "        sns.boxplot(x=pandas_df[column])\n",
    "        plt.title(f'Boxplot of {column}')\n",
    "    \n",
    "    # Save boxplot\n",
    "    plt.tight_layout()\n",
    "    plt.savefig('outliers_boxplot0.png')\n",
    "    plt.close()\n",
    "    \n",
    "    return outlier_results"
   ],
   "id": "f0e14aa725d81af3",
   "outputs": [],
   "execution_count": 5
  },
  {
   "metadata": {},
   "cell_type": "markdown",
   "source": "1. DATA LOADING AND OVERVIEW",
   "id": "86e1ba11e99e3fce"
  },
  {
   "metadata": {
    "ExecuteTime": {
     "end_time": "2024-12-23T16:01:21.407754Z",
     "start_time": "2024-12-23T16:01:14.833610Z"
    }
   },
   "cell_type": "code",
   "source": [
    "# Read the CSV file\n",
    "df = spark.read.csv('dataset/NFLX.csv', header=True, inferSchema=True)"
   ],
   "id": "abfec872b4ef9fde",
   "outputs": [],
   "execution_count": 7
  },
  {
   "metadata": {
    "ExecuteTime": {
     "end_time": "2024-12-23T16:01:24.077638Z",
     "start_time": "2024-12-23T16:01:23.065785Z"
    }
   },
   "cell_type": "code",
   "source": [
    "# Display basic information\n",
    "print(f\"Number of Rows: {df.count()}\")\n",
    "print(f\"Number of Columns: {len(df.columns)}\")\n",
    "print(\"\\nColumn Data Types:\")\n",
    "print(\"\\n\".join([f\"{field.name}: {field.dataType}\" for field in df.schema.fields]))"
   ],
   "id": "4a0c510bba6beb73",
   "outputs": [
    {
     "name": "stdout",
     "output_type": "stream",
     "text": [
      "Number of Rows: 1009\n",
      "Number of Columns: 7\n",
      "\n",
      "Column Data Types:\n",
      "Date: DateType\n",
      "Open: DoubleType\n",
      "High: DoubleType\n",
      "Low: DoubleType\n",
      "Close: DoubleType\n",
      "Adj Close: DoubleType\n",
      "Volume: IntegerType\n"
     ]
    }
   ],
   "execution_count": 8
  },
  {
   "metadata": {
    "ExecuteTime": {
     "end_time": "2024-12-23T16:01:32.050575Z",
     "start_time": "2024-12-23T16:01:25.302025Z"
    }
   },
   "cell_type": "code",
   "source": [
    "# OUTLIER DETECTION\n",
    "numeric_columns = [\"Open\", \"High\", \"Low\", \"Close\", \"Adj Close\", \"Volume\"]\n",
    "print(\"\\nPerforming Outlier Detection...\")\n",
    "outlier_analysis = comprehensive_outlier_detection(df, numeric_columns)"
   ],
   "id": "f29398970495a375",
   "outputs": [
    {
     "name": "stdout",
     "output_type": "stream",
     "text": [
      "\n",
      "Performing Outlier Detection...\n",
      "\n",
      "Outlier Analysis for Open:\n",
      "Total Outliers: 0\n",
      "Percentage of Outliers: 0.00%\n",
      "Lower Bound: 65.02996749999994\n",
      "Upper Bound: 775.5900275\n",
      "\n",
      "Outlier Analysis for High:\n",
      "Total Outliers: 0\n",
      "Percentage of Outliers: 0.00%\n",
      "Lower Bound: 67.30496249999999\n",
      "Upper Bound: 784.6250305\n",
      "\n",
      "Outlier Analysis for Low:\n",
      "Total Outliers: 0\n",
      "Percentage of Outliers: 0.00%\n",
      "Lower Bound: 61.20500150000004\n",
      "Upper Bound: 767.3249974999999\n",
      "\n",
      "Outlier Analysis for Close:\n",
      "Total Outliers: 0\n",
      "Percentage of Outliers: 0.00%\n",
      "Lower Bound: 65.43000700000005\n",
      "Upper Bound: 775.2699749999999\n"
     ]
    },
    {
     "ename": "ParseException",
     "evalue": "\n[PARSE_SYNTAX_ERROR] Syntax error at or near 'Close'.(line 1, pos 22)\n\n== SQL ==\npercentile_approx(Adj Close, array(0.25, 0.75), 10000)\n----------------------^^^\n",
     "output_type": "error",
     "traceback": [
      "\u001B[1;31m---------------------------------------------------------------------------\u001B[0m",
      "\u001B[1;31mParseException\u001B[0m                            Traceback (most recent call last)",
      "Cell \u001B[1;32mIn[9], line 4\u001B[0m\n\u001B[0;32m      2\u001B[0m numeric_columns \u001B[38;5;241m=\u001B[39m [\u001B[38;5;124m\"\u001B[39m\u001B[38;5;124mOpen\u001B[39m\u001B[38;5;124m\"\u001B[39m, \u001B[38;5;124m\"\u001B[39m\u001B[38;5;124mHigh\u001B[39m\u001B[38;5;124m\"\u001B[39m, \u001B[38;5;124m\"\u001B[39m\u001B[38;5;124mLow\u001B[39m\u001B[38;5;124m\"\u001B[39m, \u001B[38;5;124m\"\u001B[39m\u001B[38;5;124mClose\u001B[39m\u001B[38;5;124m\"\u001B[39m, \u001B[38;5;124m\"\u001B[39m\u001B[38;5;124mAdj Close\u001B[39m\u001B[38;5;124m\"\u001B[39m, \u001B[38;5;124m\"\u001B[39m\u001B[38;5;124mVolume\u001B[39m\u001B[38;5;124m\"\u001B[39m]\n\u001B[0;32m      3\u001B[0m \u001B[38;5;28mprint\u001B[39m(\u001B[38;5;124m\"\u001B[39m\u001B[38;5;130;01m\\n\u001B[39;00m\u001B[38;5;124mPerforming Outlier Detection...\u001B[39m\u001B[38;5;124m\"\u001B[39m)\n\u001B[1;32m----> 4\u001B[0m outlier_analysis \u001B[38;5;241m=\u001B[39m \u001B[43mcomprehensive_outlier_detection\u001B[49m\u001B[43m(\u001B[49m\u001B[43mdf\u001B[49m\u001B[43m,\u001B[49m\u001B[43m \u001B[49m\u001B[43mnumeric_columns\u001B[49m\u001B[43m)\u001B[49m\n",
      "Cell \u001B[1;32mIn[5], line 17\u001B[0m, in \u001B[0;36mcomprehensive_outlier_detection\u001B[1;34m(spark_df, numeric_columns)\u001B[0m\n\u001B[0;32m     11\u001B[0m \u001B[38;5;66;03m# Analyze each numeric column\u001B[39;00m\n\u001B[0;32m     12\u001B[0m \u001B[38;5;28;01mfor\u001B[39;00m idx, column \u001B[38;5;129;01min\u001B[39;00m \u001B[38;5;28menumerate\u001B[39m(numeric_columns, \u001B[38;5;241m1\u001B[39m):\n\u001B[0;32m     13\u001B[0m     \u001B[38;5;66;03m# Calculate statistics using Spark\u001B[39;00m\n\u001B[0;32m     14\u001B[0m     stats \u001B[38;5;241m=\u001B[39m spark_df\u001B[38;5;241m.\u001B[39mselect(\n\u001B[0;32m     15\u001B[0m         mean(col(column))\u001B[38;5;241m.\u001B[39malias(\u001B[38;5;124m'\u001B[39m\u001B[38;5;124mmean\u001B[39m\u001B[38;5;124m'\u001B[39m),\n\u001B[0;32m     16\u001B[0m         stddev(col(column))\u001B[38;5;241m.\u001B[39malias(\u001B[38;5;124m'\u001B[39m\u001B[38;5;124mstddev\u001B[39m\u001B[38;5;124m'\u001B[39m),\n\u001B[1;32m---> 17\u001B[0m         \u001B[43mexpr\u001B[49m\u001B[43m(\u001B[49m\u001B[38;5;124;43mf\u001B[39;49m\u001B[38;5;124;43m'\u001B[39;49m\u001B[38;5;124;43mpercentile_approx(\u001B[39;49m\u001B[38;5;132;43;01m{\u001B[39;49;00m\u001B[43mcolumn\u001B[49m\u001B[38;5;132;43;01m}\u001B[39;49;00m\u001B[38;5;124;43m, array(0.25, 0.75), 10000)\u001B[39;49m\u001B[38;5;124;43m'\u001B[39;49m\u001B[43m)\u001B[49m\u001B[38;5;241m.\u001B[39malias(\u001B[38;5;124m'\u001B[39m\u001B[38;5;124mquartiles\u001B[39m\u001B[38;5;124m'\u001B[39m)\n\u001B[0;32m     18\u001B[0m     )\u001B[38;5;241m.\u001B[39mcollect()[\u001B[38;5;241m0\u001B[39m]\n\u001B[0;32m     20\u001B[0m     \u001B[38;5;66;03m# Extract values\u001B[39;00m\n\u001B[0;32m     21\u001B[0m     q1 \u001B[38;5;241m=\u001B[39m \u001B[38;5;28mfloat\u001B[39m(stats[\u001B[38;5;124m'\u001B[39m\u001B[38;5;124mquartiles\u001B[39m\u001B[38;5;124m'\u001B[39m][\u001B[38;5;241m0\u001B[39m])\n",
      "File \u001B[1;32m~\\AppData\\Local\\Programs\\Python\\Python312\\Lib\\site-packages\\pyspark\\sql\\functions.py:1327\u001B[0m, in \u001B[0;36mexpr\u001B[1;34m(str)\u001B[0m\n\u001B[0;32m   1317\u001B[0m \u001B[38;5;250m\u001B[39m\u001B[38;5;124;03m\"\"\"Parses the expression string into the column that it represents\u001B[39;00m\n\u001B[0;32m   1318\u001B[0m \n\u001B[0;32m   1319\u001B[0m \u001B[38;5;124;03m.. versionadded:: 1.5.0\u001B[39;00m\n\u001B[1;32m   (...)\u001B[0m\n\u001B[0;32m   1324\u001B[0m \u001B[38;5;124;03m[Row(length(name)=5), Row(length(name)=3)]\u001B[39;00m\n\u001B[0;32m   1325\u001B[0m \u001B[38;5;124;03m\"\"\"\u001B[39;00m\n\u001B[0;32m   1326\u001B[0m sc \u001B[38;5;241m=\u001B[39m SparkContext\u001B[38;5;241m.\u001B[39m_active_spark_context\n\u001B[1;32m-> 1327\u001B[0m \u001B[38;5;28;01mreturn\u001B[39;00m Column(\u001B[43msc\u001B[49m\u001B[38;5;241;43m.\u001B[39;49m\u001B[43m_jvm\u001B[49m\u001B[38;5;241;43m.\u001B[39;49m\u001B[43mfunctions\u001B[49m\u001B[38;5;241;43m.\u001B[39;49m\u001B[43mexpr\u001B[49m\u001B[43m(\u001B[49m\u001B[38;5;28;43mstr\u001B[39;49m\u001B[43m)\u001B[49m)\n",
      "File \u001B[1;32m~\\AppData\\Local\\Programs\\Python\\Python312\\Lib\\site-packages\\py4j\\java_gateway.py:1304\u001B[0m, in \u001B[0;36mJavaMember.__call__\u001B[1;34m(self, *args)\u001B[0m\n\u001B[0;32m   1298\u001B[0m command \u001B[38;5;241m=\u001B[39m proto\u001B[38;5;241m.\u001B[39mCALL_COMMAND_NAME \u001B[38;5;241m+\u001B[39m\\\n\u001B[0;32m   1299\u001B[0m     \u001B[38;5;28mself\u001B[39m\u001B[38;5;241m.\u001B[39mcommand_header \u001B[38;5;241m+\u001B[39m\\\n\u001B[0;32m   1300\u001B[0m     args_command \u001B[38;5;241m+\u001B[39m\\\n\u001B[0;32m   1301\u001B[0m     proto\u001B[38;5;241m.\u001B[39mEND_COMMAND_PART\n\u001B[0;32m   1303\u001B[0m answer \u001B[38;5;241m=\u001B[39m \u001B[38;5;28mself\u001B[39m\u001B[38;5;241m.\u001B[39mgateway_client\u001B[38;5;241m.\u001B[39msend_command(command)\n\u001B[1;32m-> 1304\u001B[0m return_value \u001B[38;5;241m=\u001B[39m \u001B[43mget_return_value\u001B[49m\u001B[43m(\u001B[49m\n\u001B[0;32m   1305\u001B[0m \u001B[43m    \u001B[49m\u001B[43manswer\u001B[49m\u001B[43m,\u001B[49m\u001B[43m \u001B[49m\u001B[38;5;28;43mself\u001B[39;49m\u001B[38;5;241;43m.\u001B[39;49m\u001B[43mgateway_client\u001B[49m\u001B[43m,\u001B[49m\u001B[43m \u001B[49m\u001B[38;5;28;43mself\u001B[39;49m\u001B[38;5;241;43m.\u001B[39;49m\u001B[43mtarget_id\u001B[49m\u001B[43m,\u001B[49m\u001B[43m \u001B[49m\u001B[38;5;28;43mself\u001B[39;49m\u001B[38;5;241;43m.\u001B[39;49m\u001B[43mname\u001B[49m\u001B[43m)\u001B[49m\n\u001B[0;32m   1307\u001B[0m \u001B[38;5;28;01mfor\u001B[39;00m temp_arg \u001B[38;5;129;01min\u001B[39;00m temp_args:\n\u001B[0;32m   1308\u001B[0m     temp_arg\u001B[38;5;241m.\u001B[39m_detach()\n",
      "File \u001B[1;32m~\\AppData\\Local\\Programs\\Python\\Python312\\Lib\\site-packages\\pyspark\\sql\\utils.py:117\u001B[0m, in \u001B[0;36mcapture_sql_exception.<locals>.deco\u001B[1;34m(*a, **kw)\u001B[0m\n\u001B[0;32m    113\u001B[0m converted \u001B[38;5;241m=\u001B[39m convert_exception(e\u001B[38;5;241m.\u001B[39mjava_exception)\n\u001B[0;32m    114\u001B[0m \u001B[38;5;28;01mif\u001B[39;00m \u001B[38;5;129;01mnot\u001B[39;00m \u001B[38;5;28misinstance\u001B[39m(converted, UnknownException):\n\u001B[0;32m    115\u001B[0m     \u001B[38;5;66;03m# Hide where the exception came from that shows a non-Pythonic\u001B[39;00m\n\u001B[0;32m    116\u001B[0m     \u001B[38;5;66;03m# JVM exception message.\u001B[39;00m\n\u001B[1;32m--> 117\u001B[0m     \u001B[38;5;28;01mraise\u001B[39;00m converted \u001B[38;5;28;01mfrom\u001B[39;00m \u001B[38;5;28;01mNone\u001B[39;00m\n\u001B[0;32m    118\u001B[0m \u001B[38;5;28;01melse\u001B[39;00m:\n\u001B[0;32m    119\u001B[0m     \u001B[38;5;28;01mraise\u001B[39;00m\n",
      "\u001B[1;31mParseException\u001B[0m: \n[PARSE_SYNTAX_ERROR] Syntax error at or near 'Close'.(line 1, pos 22)\n\n== SQL ==\npercentile_approx(Adj Close, array(0.25, 0.75), 10000)\n----------------------^^^\n"
     ]
    },
    {
     "data": {
      "text/plain": [
       "<Figure size 1500x600 with 4 Axes>"
      ],
      "image/png": "[encoded data removed]"
     },
     "metadata": {},
     "output_type": "display_data"
    }
   ],
   "execution_count": 9
  },
  {
   "metadata": {},
   "cell_type": "markdown",
   "source": "2. DATA QUALITY ASSESSMENT",
   "id": "d5e68bdd60fe810e"
  },
  {
   "metadata": {
    "ExecuteTime": {
     "end_time": "2024-12-23T16:01:40.577390Z",
     "start_time": "2024-12-23T16:01:39.185789Z"
    }
   },
   "cell_type": "code",
   "source": [
    "# Check for missing values\n",
    "def check_missing_values(df):\n",
    "    total_count = df.count()\n",
    "    missing_counts = []\n",
    "    for column in df.columns:\n",
    "        missing_count = df.filter(col(column).isNull()).count()\n",
    "        missing_counts.append((column, missing_count, (missing_count/total_count)*100))\n",
    "    \n",
    "    for column, count, percentage in missing_counts:\n",
    "        print(f\"{column}: {count} missing values ({percentage:.2f}%)\")\n",
    "\n",
    "print(\"\\nMissing Values:\")\n",
    "check_missing_values(df)"
   ],
   "id": "69663a6c7137e6c8",
   "outputs": [
    {
     "name": "stdout",
     "output_type": "stream",
     "text": [
      "\n",
      "Missing Values:\n",
      "Date: 0 missing values (0.00%)\n",
      "Open: 0 missing values (0.00%)\n",
      "High: 0 missing values (0.00%)\n",
      "Low: 0 missing values (0.00%)\n",
      "Close: 0 missing values (0.00%)\n",
      "Adj Close: 0 missing values (0.00%)\n",
      "Volume: 0 missing values (0.00%)\n"
     ]
    }
   ],
   "execution_count": 10
  },
  {
   "metadata": {
    "ExecuteTime": {
     "end_time": "2024-12-23T16:01:46.915915Z",
     "start_time": "2024-12-23T16:01:42.127029Z"
    }
   },
   "cell_type": "code",
   "source": [
    "# Check for duplicates\n",
    "duplicate_count = df.count() - df.dropDuplicates().count()\n",
    "print(f\"\\nNumber of Duplicate Records: {duplicate_count}\")"
   ],
   "id": "5be0597bef694b46",
   "outputs": [
    {
     "name": "stdout",
     "output_type": "stream",
     "text": [
      "\n",
      "Number of Duplicate Records: 0\n"
     ]
    }
   ],
   "execution_count": 11
  },
  {
   "metadata": {},
   "cell_type": "markdown",
   "source": "3. DATA PREPROCESSING",
   "id": "dc7e13f140f9eaee"
  },
  {
   "metadata": {
    "ExecuteTime": {
     "end_time": "2024-12-23T16:01:51.719758Z",
     "start_time": "2024-12-23T16:01:51.673294Z"
    }
   },
   "cell_type": "code",
   "source": [
    "# Convert Date column to proper date type\n",
    "df = df.withColumn(\"Date\", col(\"Date\").cast(DateType()))"
   ],
   "id": "19edfa9d4647f379",
   "outputs": [],
   "execution_count": 12
  },
  {
   "metadata": {
    "ExecuteTime": {
     "end_time": "2024-12-23T16:01:52.800316Z",
     "start_time": "2024-12-23T16:01:52.716533Z"
    }
   },
   "cell_type": "code",
   "source": [
    "# Convert string columns to double where appropriate\n",
    "for column in numeric_columns:\n",
    "    df = df.withColumn(column, col(column).cast(DoubleType()))"
   ],
   "id": "b5d18ea7b9f5924",
   "outputs": [],
   "execution_count": 13
  },
  {
   "metadata": {
    "ExecuteTime": {
     "end_time": "2024-12-23T16:01:53.663405Z",
     "start_time": "2024-12-23T16:01:53.455090Z"
    }
   },
   "cell_type": "code",
   "source": [
    "# Handle missing values with interpolation\n",
    "# Note: In Spark, we'll use forward fill as a simple alternative to interpolation\n",
    "window_spec = Window.orderBy(\"Date\")\n",
    "for column in numeric_columns:\n",
    "    df = df.withColumn(column, \n",
    "                      coalesce(col(column), \n",
    "                              last(col(column), True).over(window_spec)))"
   ],
   "id": "72d8176f248c8c47",
   "outputs": [],
   "execution_count": 14
  },
  {
   "metadata": {},
   "cell_type": "markdown",
   "source": "4. DESCRIPTIVE STATISTICS",
   "id": "b85c25641b217677"
  },
  {
   "metadata": {
    "ExecuteTime": {
     "end_time": "2024-12-23T16:04:12.465808Z",
     "start_time": "2024-12-23T16:04:11.121888Z"
    }
   },
   "cell_type": "code",
   "source": [
    "# Calculate summary statistics\n",
    "from pyspark.sql.functions import mean, stddev, min as spark_min, max as spark_max\n",
    "\n",
    "stats_list = []\n",
    "for c in numeric_columns:\n",
    "    stats_list.extend([\n",
    "        mean(col(c)).alias(f\"{c}_mean\"),\n",
    "        stddev(col(c)).alias(f\"{c}_stddev\"),\n",
    "        spark_min(col(c)).alias(f\"{c}_min\"),\n",
    "        spark_max(col(c)).alias(f\"{c}_max\")\n",
    "    ])\n",
    "\n",
    "summary_stats = df.select(stats_list).toPandas()\n",
    "\n",
    "print(\"\\nDescriptive Statistics:\")\n",
    "print(summary_stats)"
   ],
   "id": "aafadefc97c609c0",
   "outputs": [
    {
     "name": "stdout",
     "output_type": "stream",
     "text": [
      "\n",
      "Descriptive Statistics:\n",
      "    Open_mean  Open_stddev    Open_min    Open_max   High_mean  High_stddev  \\\n",
      "0  419.059673   108.537532  233.919998  692.349976  425.320703    109.26296   \n",
      "\n",
      "     High_min   High_max    Low_mean  Low_stddev  ...   Close_min   Close_max  \\\n",
      "0  250.649994  700.98999  412.374044  107.555867  ...  233.880005  691.690002   \n",
      "\n",
      "   Adj Close_mean  Adj Close_stddev  Adj Close_min  Adj Close_max  \\\n",
      "0      419.000733        108.289999     233.880005     691.690002   \n",
      "\n",
      "    Volume_mean  Volume_stddev  Volume_min  Volume_max  \n",
      "0  7.570685e+06   5.465535e+06   1144000.0  58904300.0  \n",
      "\n",
      "[1 rows x 24 columns]\n"
     ]
    }
   ],
   "execution_count": 18
  },
  {
   "metadata": {},
   "cell_type": "markdown",
   "source": "5. DISTRIBUTION ANALYSIS",
   "id": "accff6ace0748f56"
  },
  {
   "metadata": {
    "ExecuteTime": {
     "end_time": "2024-12-23T16:06:03.114258Z",
     "start_time": "2024-12-23T16:06:02.976660Z"
    }
   },
   "cell_type": "code",
   "source": [
    "# Convert to pandas for visualization\n",
    "pandas_df = df.toPandas()"
   ],
   "id": "52681080f0bb2f84",
   "outputs": [],
   "execution_count": 22
  },
  {
   "metadata": {
    "ExecuteTime": {
     "end_time": "2024-12-23T16:06:07.020696Z",
     "start_time": "2024-12-23T16:06:05.164467Z"
    }
   },
   "cell_type": "code",
   "source": [
    "# Create distribution plots\n",
    "plt.figure(figsize=(15, 10))\n",
    "for i, col in enumerate(numeric_columns, 1):\n",
    "    plt.subplot(2, 3, i)\n",
    "    sns.histplot(data=pandas_df, x=col, kde=True)\n",
    "    plt.title(f'{col} Distribution')\n",
    "plt.tight_layout()\n",
    "plt.savefig('distribution_plots/histograms.png')\n",
    "plt.close()"
   ],
   "id": "46db3457cfc072c2",
   "outputs": [],
   "execution_count": 23
  },
  {
   "metadata": {
    "ExecuteTime": {
     "end_time": "2024-12-23T16:06:19.280392Z",
     "start_time": "2024-12-23T16:06:19.018861Z"
    }
   },
   "cell_type": "code",
   "source": [
    "# Create box plots\n",
    "plt.figure(figsize=(15, 5))\n",
    "pandas_df[numeric_columns].boxplot()\n",
    "plt.title('Box Plot of Numeric Columns')\n",
    "plt.xticks(rotation=45)\n",
    "plt.tight_layout()\n",
    "plt.savefig('distribution_plots/boxplots.png')\n",
    "plt.close()"
   ],
   "id": "e8b66c3dbab23fb2",
   "outputs": [],
   "execution_count": 25
  },
  {
   "metadata": {},
   "cell_type": "markdown",
   "source": "6. RELATIONSHIP EXPLORATION",
   "id": "ff7597d64196f7b1"
  },
  {
   "metadata": {
    "ExecuteTime": {
     "end_time": "2024-12-23T16:06:39.285901Z",
     "start_time": "2024-12-23T16:06:30.582385Z"
    }
   },
   "cell_type": "code",
   "source": [
    "# Calculate correlations\n",
    "correlations = []\n",
    "for col1 in numeric_columns:\n",
    "    for col2 in numeric_columns:\n",
    "        correlation = df.stat.corr(col1, col2)\n",
    "        correlations.append((col1, col2, correlation))"
   ],
   "id": "6579eb187e36f3dc",
   "outputs": [],
   "execution_count": 26
  },
  {
   "metadata": {
    "ExecuteTime": {
     "end_time": "2024-12-23T16:06:49.808952Z",
     "start_time": "2024-12-23T16:06:49.796939Z"
    }
   },
   "cell_type": "code",
   "source": [
    "# Convert correlations to a pandas DataFrame for visualization\n",
    "correlation_df = pd.DataFrame(correlations, columns=['Column1', 'Column2', 'Correlation'])\n",
    "correlation_matrix = correlation_df.pivot(index='Column1', columns='Column2', values='Correlation')"
   ],
   "id": "c775829a0d97c864",
   "outputs": [],
   "execution_count": 29
  },
  {
   "metadata": {
    "ExecuteTime": {
     "end_time": "2024-12-23T16:06:51.039960Z",
     "start_time": "2024-12-23T16:06:50.483185Z"
    }
   },
   "cell_type": "code",
   "source": [
    "# Create correlation heatmap\n",
    "plt.figure(figsize=(10, 8))\n",
    "sns.heatmap(correlation_matrix, annot=True, cmap='coolwarm', center=0)\n",
    "plt.title('Correlation Heatmap')\n",
    "plt.tight_layout()\n",
    "plt.savefig('distribution_plots/correlation_heatmap.png')\n",
    "plt.close()"
   ],
   "id": "b76941a01a228654",
   "outputs": [],
   "execution_count": 30
  },
  {
   "metadata": {
    "ExecuteTime": {
     "end_time": "2024-12-23T16:07:22.451945Z",
     "start_time": "2024-12-23T16:07:21.108113Z"
    }
   },
   "cell_type": "code",
   "source": [
    "# Save processed data\n",
    "df.write.mode(\"overwrite\").csv(\"dataset/preprocessed_spark_data.csv\", header=True)\n",
    "print(\"\\nPreprocessed data saved to 'dataset/preprocessed_spark_data.csv'\")"
   ],
   "id": "e35d185d0e663504",
   "outputs": [
    {
     "name": "stdout",
     "output_type": "stream",
     "text": [
      "\n",
      "Preprocessed data saved to 'dataset/preprocessed_spark_data.csv'\n"
     ]
    }
   ],
   "execution_count": 31
  },
  {
   "metadata": {
    "ExecuteTime": {
     "end_time": "2024-12-23T16:07:27.070113Z",
     "start_time": "2024-12-23T16:07:26.527411Z"
    }
   },
   "cell_type": "code",
   "source": [
    "# Stop Spark session\n",
    "spark.stop()"
   ],
   "id": "f36fc18919689570",
   "outputs": [],
   "execution_count": 32
  }
 ],
 "metadata": {
  "kernelspec": {
   "display_name": "Python 3",
   "language": "python",
   "name": "python3"
  },
  "language_info": {
   "codemirror_mode": {
    "name": "ipython",
    "version": 2
   },
   "file_extension": ".py",
   "mimetype": "text/x-python",
   "name": "python",
   "nbconvert_exporter": "python",
   "pygments_lexer": "ipython2",
   "version": "2.7.6"
  }
 },
 "nbformat": 4,
 "nbformat_minor": 5
}
