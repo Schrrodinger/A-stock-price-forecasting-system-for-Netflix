{
 "cells": [
  {
   "cell_type": "code",
   "id": "initial_id",
   "metadata": {
    "collapsed": true,
    "ExecuteTime": {
    }
   },
   "source": [
    "from pyspark.sql import SparkSession, Window\n",
    "from pyspark.sql.functions import col, expr, desc, sqrt, mean, stddev, percentile_approx, last, coalesce\n",
    "from pyspark.sql.types import DoubleType, DateType\n",
    "import matplotlib.pyplot as plt\n",
    "import seaborn as sns\n",
    "import pandas as pd\n",
    "import os"
   ],
   "outputs": [],
  },
  {
   "metadata": {
    "ExecuteTime": {
    }
   },
   "cell_type": "code",
   "source": [
    "# Initialize Spark session\n",
    "spark = SparkSession.builder \\\n",
    "    .appName(\"NetflixStockPreprocessing\") \\\n",
    "    .getOrCreate()"
   ],
   "id": "cb961da2bbdd3169",
    {
    }
  },
   "cell_type": "code",
   "source": [
    "# Create directory for plots if it doesn't exist\n",
    "os.makedirs('distribution_plots', exist_ok=True)"
   ],
   "outputs": [],
   "source": [
    "# Function for detailed outlier analysis\n",
    "def comprehensive_outlier_detection(spark_df, numeric_columns):\n",
    "    outlier_results = {}"
   ],
  },
  {
   "metadata": {},
   "cell_type": "markdown",
   "source": "OUTLIER",
   "id": "75544b72e5eb6774"
  },
  {
   "cell_type": "code",
   "source": [
    "# Function for detailed outlier analysis\n",
    "def comprehensive_outlier_detection(spark_df, numeric_columns):\n",
    "    outlier_results = {}\n",
    "    \n",
    "    # Convert to pandas for visualization\n",
    "    pandas_df = spark_df.toPandas()\n",
    "    \n",
    "    # Create a figure for boxplots\n",
    "    plt.figure(figsize=(15, 6))\n",
    "    \n",
    "    # Analyze each numeric column\n",
    "    for idx, column in enumerate(numeric_columns, 1):\n",
    "        # Calculate statistics using Spark\n",
    "        stats = spark_df.select(\n",
    "            mean(col(column)).alias('mean'),\n",
    "            stddev(col(column)).alias('stddev'),\n",
    "            expr(f'percentile_approx({column}, array(0.25, 0.75), 10000)').alias('quartiles')\n",
    "        ).collect()[0]\n",
    "        \n",
    "        # Extract values\n",
    "        q1 = float(stats['quartiles'][0])\n",
    "        q3 = float(stats['quartiles'][1])\n",
    "        iqr = q3 - q1\n",
    "        \n",
    "        # Define bounds\n",
    "        lower_bound = q1 - 1.5 * iqr\n",
    "        upper_bound = q3 + 1.5 * iqr\n",
    "        \n",
    "        # Count outliers using Spark\n",
    "        outliers_count = spark_df.filter(\n",
    "            (col(column) < lower_bound) | (col(column) > upper_bound)\n",
    "        ).count()\n",
    "        \n",
    "        # Get outlier rows\n",
    "        outliers = spark_df.filter(\n",
    "            (col(column) < lower_bound) | (col(column) > upper_bound)\n",
    "        ).toPandas()\n",
    "        \n",
    "        # Store results\n",
    "        outlier_results[column] = {\n",
    "            'total_outliers': outliers_count,\n",
    "            'percentage_outliers': (outliers_count / spark_df.count()) * 100,\n",
    "            'lower_bound': lower_bound,\n",
    "            'upper_bound': upper_bound,\n",
    "            'outliers': outliers\n",
    "        }\n",
    "        \n",
    "        # Print detailed outlier information\n",
    "        print(f\"\\nOutlier Analysis for {column}:\")\n",
    "        print(f\"Total Outliers: {outliers_count}\")\n",
    "        print(f\"Percentage of Outliers: {(outliers_count / spark_df.count()) * 100:.2f}%\")\n",
    "        print(f\"Lower Bound: {lower_bound}\")\n",
    "        print(f\"Upper Bound: {upper_bound}\")\n",
    "        \n",
    "        # If there are outliers, print them\n",
    "        if outliers_count > 0:\n",
    "            print(\"\\nOutlier Details:\")\n",
    "            print(outliers)\n",
    "        \n",
    "        # Create boxplot\n",
    "        plt.subplot(1, len(numeric_columns), idx)\n",
    "        sns.boxplot(x=pandas_df[column])\n",
    "        plt.title(f'Boxplot of {column}')\n",
    "    \n",
    "    # Save boxplot\n",
    "    plt.tight_layout()\n",
    "    plt.savefig('outliers_boxplot0.png')\n",
    "    plt.close()\n",
    "    \n",
    "    return outlier_results"
   ],
  },
  {
   "metadata": {},
   "cell_type": "markdown",
   "source": "1. DATA LOADING AND OVERVIEW",
   "id": "86e1ba11e99e3fce"
  },
  {
   "cell_type": "code",
   "source": [
    "# Read the CSV file\n",
   ],
   "outputs": [],
   "source": [
    "# Display basic information\n",
    "print(f\"Number of Rows: {df.count()}\")\n",
    "print(f\"Number of Columns: {len(df.columns)}\")\n",
    "print(\"\\nColumn Data Types:\")\n",
    "print(\"\\n\".join([f\"{field.name}: {field.dataType}\" for field in df.schema.fields]))"
   ],
  },
  {
   "cell_type": "code",
   "source": [
    "# OUTLIER DETECTION\n",
    "numeric_columns = [\"Open\", \"High\", \"Low\", \"Close\", \"Adj Close\", \"Volume\"]\n",
    "print(\"\\nPerforming Outlier Detection...\")\n",
    "outlier_analysis = comprehensive_outlier_detection(df, numeric_columns)"
   ],
  },
  {
   "metadata": {},
   "cell_type": "markdown",
   "source": "2. DATA QUALITY ASSESSMENT",
   "id": "d5e68bdd60fe810e"
  },
  {
   "cell_type": "code",
   "source": [
    "# Check for missing values\n",
    "def check_missing_values(df):\n",
    "    total_count = df.count()\n",
    "    missing_counts = []\n",
    "    for column in df.columns:\n",
    "        missing_count = df.filter(col(column).isNull()).count()\n",
    "        missing_counts.append((column, missing_count, (missing_count/total_count)*100))\n",
    "    \n",
    "    for column, count, percentage in missing_counts:\n",
    "        print(f\"{column}: {count} missing values ({percentage:.2f}%)\")\n",
    "\n",
    "print(\"\\nMissing Values:\")\n",
    "check_missing_values(df)"
   ],
  },
  {
   "cell_type": "code",
   "source": [
    "# Check for duplicates\n",
    "duplicate_count = df.count() - df.dropDuplicates().count()\n",
    "print(f\"\\nNumber of Duplicate Records: {duplicate_count}\")"
   ],
  },
  {
   "metadata": {},
   "cell_type": "markdown",
   "source": "3. DATA PREPROCESSING",
   "id": "dc7e13f140f9eaee"
  },
  {
   "cell_type": "code",
   "source": [
    "# Convert Date column to proper date type\n",
    "df = df.withColumn(\"Date\", col(\"Date\").cast(DateType()))"
   ],
   "outputs": [],
   "source": [
    "# Convert string columns to double where appropriate\n",
    "for column in numeric_columns:\n",
    "    df = df.withColumn(column, col(column).cast(DoubleType()))"
   ],
   "outputs": [],
   "source": [
    "# Handle missing values with interpolation\n",
    "# Note: In Spark, we'll use forward fill as a simple alternative to interpolation\n",
    "window_spec = Window.orderBy(\"Date\")\n",
    "for column in numeric_columns:\n",
    "    df = df.withColumn(column, \n",
    "                      coalesce(col(column), \n",
    "                              last(col(column), True).over(window_spec)))"
   ],
  },
  {
   "metadata": {},
   "cell_type": "markdown",
   "source": "4. DESCRIPTIVE STATISTICS",
   "id": "b85c25641b217677"
  },
  {
   "cell_type": "code",
   "source": [
    "# Calculate summary statistics\n",
    "    mean(col(c)).alias(f\"{c}_mean\"),\n",
    "    stddev(col(c)).alias(f\"{c}_stddev\"),\n",
    "\n",
    "print(\"\\nDescriptive Statistics:\")\n",
    "print(summary_stats)"
   ],
  },
  {
   "metadata": {},
   "cell_type": "markdown",
   "source": "5. DISTRIBUTION ANALYSIS",
   "id": "accff6ace0748f56"
  },
  {
   "cell_type": "code",
   "source": [
    "# Convert to pandas for visualization\n",
    "pandas_df = df.toPandas()"
   ],
   "outputs": [],
   "source": [
    "# Create distribution plots\n",
    "plt.figure(figsize=(15, 10))\n",
    "for i, col in enumerate(numeric_columns, 1):\n",
    "    plt.subplot(2, 3, i)\n",
    "    sns.histplot(data=pandas_df, x=col, kde=True)\n",
    "    plt.title(f'{col} Distribution')\n",
    "plt.tight_layout()\n",
    "plt.close()"
   ],
   "outputs": [],
   "source": [
    "# Create box plots\n",
    "plt.figure(figsize=(15, 5))\n",
    "pandas_df[numeric_columns].boxplot()\n",
    "plt.title('Box Plot of Numeric Columns')\n",
    "plt.xticks(rotation=45)\n",
    "plt.tight_layout()\n",
    "plt.close()"
   ],
  },
  {
   "metadata": {},
   "cell_type": "markdown",
   "source": "6. RELATIONSHIP EXPLORATION",
   "id": "ff7597d64196f7b1"
  },
  {
   "cell_type": "code",
   "source": [
    "# Calculate correlations\n",
    "correlations = []\n",
    "for col1 in numeric_columns:\n",
    "    for col2 in numeric_columns:\n",
    "        correlation = df.stat.corr(col1, col2)\n",
    "        correlations.append((col1, col2, correlation))"
   ],
   "outputs": [],
   "source": [
    "# Convert correlations to a pandas DataFrame for visualization\n",
    "correlation_df = pd.DataFrame(correlations, columns=['Column1', 'Column2', 'Correlation'])\n",
    "correlation_matrix = correlation_df.pivot(index='Column1', columns='Column2', values='Correlation')"
   ],
   "outputs": [],
   "source": [
    "# Create correlation heatmap\n",
    "plt.figure(figsize=(10, 8))\n",
    "sns.heatmap(correlation_matrix, annot=True, cmap='coolwarm', center=0)\n",
    "plt.title('Correlation Heatmap')\n",
    "plt.tight_layout()\n",
    "plt.close()"
   ],
   "outputs": [],
   "source": [
    "# Save processed data\n",
   ],
  },
  {
   "cell_type": "code",
   "source": [
    "# Stop Spark session\n",
    "spark.stop()"
   ],
  }
 ],
 "metadata": {
  "kernelspec": {
   "display_name": "Python 3",
   "language": "python",
   "name": "python3"
  },
  "language_info": {
   "codemirror_mode": {
    "name": "ipython",
    "version": 2
   },
   "file_extension": ".py",
   "mimetype": "text/x-python",
   "name": "python",
   "nbconvert_exporter": "python",
   "pygments_lexer": "ipython2",
   "version": "2.7.6"
  }
 },
 "nbformat": 4,
 "nbformat_minor": 5
}
