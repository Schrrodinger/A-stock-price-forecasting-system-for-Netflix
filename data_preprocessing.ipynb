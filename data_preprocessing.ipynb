{
 "cells": [
  {
   "cell_type": "code",
   "id": "initial_id",
   "metadata": {
    "collapsed": true,
    "ExecuteTime": {
     "end_time": "2024-12-23T14:38:35.273975Z",
     "start_time": "2024-12-23T14:38:35.258034Z"
    }
   },
   "source": [
    "from pyspark.sql import SparkSession, Window\n",
    "from pyspark.sql.functions import col, expr, desc, sqrt, mean, stddev, percentile_approx, last, coalesce\n",
    "from pyspark.sql.types import DoubleType, DateType\n",
    "import matplotlib.pyplot as plt\n",
    "import seaborn as sns\n",
    "import pandas as pd\n",
    "import os"
   ],
   "outputs": [],
   "execution_count": 3
  },
  {
   "metadata": {
    "ExecuteTime": {
     "end_time": "2024-12-23T14:42:28.413560Z",
     "start_time": "2024-12-23T14:38:35.324175Z"
    }
   },
   "cell_type": "code",
   "source": [
    "# Initialize Spark session\n",
    "spark = SparkSession.builder \\\n",
    "    .appName(\"NetflixStockPreprocessing\") \\\n",
    "    .getOrCreate()"
   ],
   "id": "cb961da2bbdd3169",
   "outputs": [
    {
     "ename": "KeyboardInterrupt",
     "evalue": "",
     "output_type": "error",
     "traceback": [
      "\u001B[1;31m---------------------------------------------------------------------------\u001B[0m",
      "\u001B[1;31mKeyboardInterrupt\u001B[0m                         Traceback (most recent call last)",
      "Input \u001B[1;32mIn [4]\u001B[0m, in \u001B[0;36m<cell line: 2>\u001B[1;34m()\u001B[0m\n\u001B[0;32m      1\u001B[0m \u001B[38;5;66;03m# Initialize Spark session with optimized configurations\u001B[39;00m\n\u001B[1;32m----> 2\u001B[0m spark \u001B[38;5;241m=\u001B[39m \u001B[43mSparkSession\u001B[49m\u001B[38;5;241;43m.\u001B[39;49m\u001B[43mbuilder\u001B[49m\u001B[43m \u001B[49m\u001B[43m\\\u001B[49m\n\u001B[0;32m      3\u001B[0m \u001B[43m    \u001B[49m\u001B[38;5;241;43m.\u001B[39;49m\u001B[43mappName\u001B[49m\u001B[43m(\u001B[49m\u001B[38;5;124;43m\"\u001B[39;49m\u001B[38;5;124;43mNetflixStockPreprocessing\u001B[39;49m\u001B[38;5;124;43m\"\u001B[39;49m\u001B[43m)\u001B[49m\u001B[43m \u001B[49m\u001B[43m\\\u001B[49m\n\u001B[0;32m      4\u001B[0m \u001B[43m    \u001B[49m\u001B[38;5;241;43m.\u001B[39;49m\u001B[43mconfig\u001B[49m\u001B[43m(\u001B[49m\u001B[38;5;124;43m\"\u001B[39;49m\u001B[38;5;124;43mspark.sql.shuffle.partitions\u001B[39;49m\u001B[38;5;124;43m\"\u001B[39;49m\u001B[43m,\u001B[49m\u001B[43m \u001B[49m\u001B[38;5;124;43m\"\u001B[39;49m\u001B[38;5;124;43m4\u001B[39;49m\u001B[38;5;124;43m\"\u001B[39;49m\u001B[43m)\u001B[49m\u001B[43m \u001B[49m\u001B[43m\\\u001B[49m\n\u001B[0;32m      5\u001B[0m \u001B[43m    \u001B[49m\u001B[38;5;241;43m.\u001B[39;49m\u001B[43mconfig\u001B[49m\u001B[43m(\u001B[49m\u001B[38;5;124;43m\"\u001B[39;49m\u001B[38;5;124;43mspark.executor.memory\u001B[39;49m\u001B[38;5;124;43m\"\u001B[39;49m\u001B[43m,\u001B[49m\u001B[43m \u001B[49m\u001B[38;5;124;43m\"\u001B[39;49m\u001B[38;5;124;43m2g\u001B[39;49m\u001B[38;5;124;43m\"\u001B[39;49m\u001B[43m)\u001B[49m\u001B[43m \u001B[49m\u001B[43m\\\u001B[49m\n\u001B[0;32m      6\u001B[0m \u001B[43m    \u001B[49m\u001B[38;5;241;43m.\u001B[39;49m\u001B[43mconfig\u001B[49m\u001B[43m(\u001B[49m\u001B[38;5;124;43m\"\u001B[39;49m\u001B[38;5;124;43mspark.driver.memory\u001B[39;49m\u001B[38;5;124;43m\"\u001B[39;49m\u001B[43m,\u001B[49m\u001B[43m \u001B[49m\u001B[38;5;124;43m\"\u001B[39;49m\u001B[38;5;124;43m2g\u001B[39;49m\u001B[38;5;124;43m\"\u001B[39;49m\u001B[43m)\u001B[49m\u001B[43m \u001B[49m\u001B[43m\\\u001B[49m\n\u001B[0;32m      7\u001B[0m \u001B[43m    \u001B[49m\u001B[38;5;241;43m.\u001B[39;49m\u001B[43mconfig\u001B[49m\u001B[43m(\u001B[49m\u001B[38;5;124;43m\"\u001B[39;49m\u001B[38;5;124;43mspark.sql.autoBroadcastJoinThreshold\u001B[39;49m\u001B[38;5;124;43m\"\u001B[39;49m\u001B[43m,\u001B[49m\u001B[43m \u001B[49m\u001B[38;5;124;43m\"\u001B[39;49m\u001B[38;5;124;43m10m\u001B[39;49m\u001B[38;5;124;43m\"\u001B[39;49m\u001B[43m)\u001B[49m\u001B[43m \u001B[49m\u001B[43m\\\u001B[49m\n\u001B[0;32m      8\u001B[0m \u001B[43m    \u001B[49m\u001B[38;5;241;43m.\u001B[39;49m\u001B[43mconfig\u001B[49m\u001B[43m(\u001B[49m\u001B[38;5;124;43m\"\u001B[39;49m\u001B[38;5;124;43mspark.default.parallelism\u001B[39;49m\u001B[38;5;124;43m\"\u001B[39;49m\u001B[43m,\u001B[49m\u001B[43m \u001B[49m\u001B[38;5;124;43m\"\u001B[39;49m\u001B[38;5;124;43m4\u001B[39;49m\u001B[38;5;124;43m\"\u001B[39;49m\u001B[43m)\u001B[49m\u001B[43m \u001B[49m\u001B[43m\\\u001B[49m\n\u001B[0;32m      9\u001B[0m \u001B[43m    \u001B[49m\u001B[38;5;241;43m.\u001B[39;49m\u001B[43mconfig\u001B[49m\u001B[43m(\u001B[49m\u001B[38;5;124;43m\"\u001B[39;49m\u001B[38;5;124;43mspark.sql.inMemoryColumnarStorage.compressed\u001B[39;49m\u001B[38;5;124;43m\"\u001B[39;49m\u001B[43m,\u001B[49m\u001B[43m \u001B[49m\u001B[38;5;124;43m\"\u001B[39;49m\u001B[38;5;124;43mtrue\u001B[39;49m\u001B[38;5;124;43m\"\u001B[39;49m\u001B[43m)\u001B[49m\u001B[43m \u001B[49m\u001B[43m\\\u001B[49m\n\u001B[0;32m     10\u001B[0m \u001B[43m    \u001B[49m\u001B[38;5;241;43m.\u001B[39;49m\u001B[43mconfig\u001B[49m\u001B[43m(\u001B[49m\u001B[38;5;124;43m\"\u001B[39;49m\u001B[38;5;124;43mspark.sql.files.maxPartitionBytes\u001B[39;49m\u001B[38;5;124;43m\"\u001B[39;49m\u001B[43m,\u001B[49m\u001B[43m \u001B[49m\u001B[38;5;124;43m\"\u001B[39;49m\u001B[38;5;124;43m128m\u001B[39;49m\u001B[38;5;124;43m\"\u001B[39;49m\u001B[43m)\u001B[49m\u001B[43m \u001B[49m\u001B[43m\\\u001B[49m\n\u001B[0;32m     11\u001B[0m \u001B[43m    \u001B[49m\u001B[38;5;241;43m.\u001B[39;49m\u001B[43mmaster\u001B[49m\u001B[43m(\u001B[49m\u001B[38;5;124;43m\"\u001B[39;49m\u001B[38;5;124;43mlocal[*]\u001B[39;49m\u001B[38;5;124;43m\"\u001B[39;49m\u001B[43m)\u001B[49m\u001B[43m \u001B[49m\u001B[43m\\\u001B[49m\n\u001B[0;32m     12\u001B[0m \u001B[43m    \u001B[49m\u001B[38;5;241;43m.\u001B[39;49m\u001B[43mgetOrCreate\u001B[49m\u001B[43m(\u001B[49m\u001B[43m)\u001B[49m\n\u001B[0;32m     14\u001B[0m \u001B[38;5;66;03m# Disable unnecessary logging\u001B[39;00m\n\u001B[0;32m     15\u001B[0m spark\u001B[38;5;241m.\u001B[39msparkContext\u001B[38;5;241m.\u001B[39msetLogLevel(\u001B[38;5;124m\"\u001B[39m\u001B[38;5;124mERROR\u001B[39m\u001B[38;5;124m\"\u001B[39m)\n",
      "File \u001B[1;32mD:\\anaconda\\lib\\site-packages\\pyspark\\sql\\session.py:497\u001B[0m, in \u001B[0;36mSparkSession.Builder.getOrCreate\u001B[1;34m(self)\u001B[0m\n\u001B[0;32m    495\u001B[0m     sparkConf\u001B[38;5;241m.\u001B[39mset(key, value)\n\u001B[0;32m    496\u001B[0m \u001B[38;5;66;03m# This SparkContext may be an existing one.\u001B[39;00m\n\u001B[1;32m--> 497\u001B[0m sc \u001B[38;5;241m=\u001B[39m \u001B[43mSparkContext\u001B[49m\u001B[38;5;241;43m.\u001B[39;49m\u001B[43mgetOrCreate\u001B[49m\u001B[43m(\u001B[49m\u001B[43msparkConf\u001B[49m\u001B[43m)\u001B[49m\n\u001B[0;32m    498\u001B[0m \u001B[38;5;66;03m# Do not update `SparkConf` for existing `SparkContext`, as it's shared\u001B[39;00m\n\u001B[0;32m    499\u001B[0m \u001B[38;5;66;03m# by all sessions.\u001B[39;00m\n\u001B[0;32m    500\u001B[0m session \u001B[38;5;241m=\u001B[39m SparkSession(sc, options\u001B[38;5;241m=\u001B[39m\u001B[38;5;28mself\u001B[39m\u001B[38;5;241m.\u001B[39m_options)\n",
      "File \u001B[1;32mD:\\anaconda\\lib\\site-packages\\pyspark\\context.py:515\u001B[0m, in \u001B[0;36mSparkContext.getOrCreate\u001B[1;34m(cls, conf)\u001B[0m\n\u001B[0;32m    513\u001B[0m \u001B[38;5;28;01mwith\u001B[39;00m SparkContext\u001B[38;5;241m.\u001B[39m_lock:\n\u001B[0;32m    514\u001B[0m     \u001B[38;5;28;01mif\u001B[39;00m SparkContext\u001B[38;5;241m.\u001B[39m_active_spark_context \u001B[38;5;129;01mis\u001B[39;00m \u001B[38;5;28;01mNone\u001B[39;00m:\n\u001B[1;32m--> 515\u001B[0m         \u001B[43mSparkContext\u001B[49m\u001B[43m(\u001B[49m\u001B[43mconf\u001B[49m\u001B[38;5;241;43m=\u001B[39;49m\u001B[43mconf\u001B[49m\u001B[43m \u001B[49m\u001B[38;5;129;43;01mor\u001B[39;49;00m\u001B[43m \u001B[49m\u001B[43mSparkConf\u001B[49m\u001B[43m(\u001B[49m\u001B[43m)\u001B[49m\u001B[43m)\u001B[49m\n\u001B[0;32m    516\u001B[0m     \u001B[38;5;28;01massert\u001B[39;00m SparkContext\u001B[38;5;241m.\u001B[39m_active_spark_context \u001B[38;5;129;01mis\u001B[39;00m \u001B[38;5;129;01mnot\u001B[39;00m \u001B[38;5;28;01mNone\u001B[39;00m\n\u001B[0;32m    517\u001B[0m     \u001B[38;5;28;01mreturn\u001B[39;00m SparkContext\u001B[38;5;241m.\u001B[39m_active_spark_context\n",
      "File \u001B[1;32mD:\\anaconda\\lib\\site-packages\\pyspark\\context.py:201\u001B[0m, in \u001B[0;36mSparkContext.__init__\u001B[1;34m(self, master, appName, sparkHome, pyFiles, environment, batchSize, serializer, conf, gateway, jsc, profiler_cls, udf_profiler_cls, memory_profiler_cls)\u001B[0m\n\u001B[0;32m    195\u001B[0m \u001B[38;5;28;01mif\u001B[39;00m gateway \u001B[38;5;129;01mis\u001B[39;00m \u001B[38;5;129;01mnot\u001B[39;00m \u001B[38;5;28;01mNone\u001B[39;00m \u001B[38;5;129;01mand\u001B[39;00m gateway\u001B[38;5;241m.\u001B[39mgateway_parameters\u001B[38;5;241m.\u001B[39mauth_token \u001B[38;5;129;01mis\u001B[39;00m \u001B[38;5;28;01mNone\u001B[39;00m:\n\u001B[0;32m    196\u001B[0m     \u001B[38;5;28;01mraise\u001B[39;00m \u001B[38;5;167;01mValueError\u001B[39;00m(\n\u001B[0;32m    197\u001B[0m         \u001B[38;5;124m\"\u001B[39m\u001B[38;5;124mYou are trying to pass an insecure Py4j gateway to Spark. This\u001B[39m\u001B[38;5;124m\"\u001B[39m\n\u001B[0;32m    198\u001B[0m         \u001B[38;5;124m\"\u001B[39m\u001B[38;5;124m is not allowed as it is a security risk.\u001B[39m\u001B[38;5;124m\"\u001B[39m\n\u001B[0;32m    199\u001B[0m     )\n\u001B[1;32m--> 201\u001B[0m \u001B[43mSparkContext\u001B[49m\u001B[38;5;241;43m.\u001B[39;49m\u001B[43m_ensure_initialized\u001B[49m\u001B[43m(\u001B[49m\u001B[38;5;28;43mself\u001B[39;49m\u001B[43m,\u001B[49m\u001B[43m \u001B[49m\u001B[43mgateway\u001B[49m\u001B[38;5;241;43m=\u001B[39;49m\u001B[43mgateway\u001B[49m\u001B[43m,\u001B[49m\u001B[43m \u001B[49m\u001B[43mconf\u001B[49m\u001B[38;5;241;43m=\u001B[39;49m\u001B[43mconf\u001B[49m\u001B[43m)\u001B[49m\n\u001B[0;32m    202\u001B[0m \u001B[38;5;28;01mtry\u001B[39;00m:\n\u001B[0;32m    203\u001B[0m     \u001B[38;5;28mself\u001B[39m\u001B[38;5;241m.\u001B[39m_do_init(\n\u001B[0;32m    204\u001B[0m         master,\n\u001B[0;32m    205\u001B[0m         appName,\n\u001B[1;32m   (...)\u001B[0m\n\u001B[0;32m    215\u001B[0m         memory_profiler_cls,\n\u001B[0;32m    216\u001B[0m     )\n",
      "File \u001B[1;32mD:\\anaconda\\lib\\site-packages\\pyspark\\context.py:436\u001B[0m, in \u001B[0;36mSparkContext._ensure_initialized\u001B[1;34m(cls, instance, gateway, conf)\u001B[0m\n\u001B[0;32m    434\u001B[0m \u001B[38;5;28;01mwith\u001B[39;00m SparkContext\u001B[38;5;241m.\u001B[39m_lock:\n\u001B[0;32m    435\u001B[0m     \u001B[38;5;28;01mif\u001B[39;00m \u001B[38;5;129;01mnot\u001B[39;00m SparkContext\u001B[38;5;241m.\u001B[39m_gateway:\n\u001B[1;32m--> 436\u001B[0m         SparkContext\u001B[38;5;241m.\u001B[39m_gateway \u001B[38;5;241m=\u001B[39m gateway \u001B[38;5;129;01mor\u001B[39;00m \u001B[43mlaunch_gateway\u001B[49m\u001B[43m(\u001B[49m\u001B[43mconf\u001B[49m\u001B[43m)\u001B[49m\n\u001B[0;32m    437\u001B[0m         SparkContext\u001B[38;5;241m.\u001B[39m_jvm \u001B[38;5;241m=\u001B[39m SparkContext\u001B[38;5;241m.\u001B[39m_gateway\u001B[38;5;241m.\u001B[39mjvm\n\u001B[0;32m    439\u001B[0m     \u001B[38;5;28;01mif\u001B[39;00m instance:\n",
      "File \u001B[1;32mD:\\anaconda\\lib\\site-packages\\pyspark\\java_gateway.py:104\u001B[0m, in \u001B[0;36mlaunch_gateway\u001B[1;34m(conf, popen_kwargs)\u001B[0m\n\u001B[0;32m    102\u001B[0m \u001B[38;5;66;03m# Wait for the file to appear, or for the process to exit, whichever happens first.\u001B[39;00m\n\u001B[0;32m    103\u001B[0m \u001B[38;5;28;01mwhile\u001B[39;00m \u001B[38;5;129;01mnot\u001B[39;00m proc\u001B[38;5;241m.\u001B[39mpoll() \u001B[38;5;129;01mand\u001B[39;00m \u001B[38;5;129;01mnot\u001B[39;00m os\u001B[38;5;241m.\u001B[39mpath\u001B[38;5;241m.\u001B[39misfile(conn_info_file):\n\u001B[1;32m--> 104\u001B[0m     \u001B[43mtime\u001B[49m\u001B[38;5;241;43m.\u001B[39;49m\u001B[43msleep\u001B[49m\u001B[43m(\u001B[49m\u001B[38;5;241;43m0.1\u001B[39;49m\u001B[43m)\u001B[49m\n\u001B[0;32m    106\u001B[0m \u001B[38;5;28;01mif\u001B[39;00m \u001B[38;5;129;01mnot\u001B[39;00m os\u001B[38;5;241m.\u001B[39mpath\u001B[38;5;241m.\u001B[39misfile(conn_info_file):\n\u001B[0;32m    107\u001B[0m     \u001B[38;5;28;01mraise\u001B[39;00m PySparkRuntimeError(\n\u001B[0;32m    108\u001B[0m         error_class\u001B[38;5;241m=\u001B[39m\u001B[38;5;124m\"\u001B[39m\u001B[38;5;124mJAVA_GATEWAY_EXITED\u001B[39m\u001B[38;5;124m\"\u001B[39m,\n\u001B[0;32m    109\u001B[0m         message_parameters\u001B[38;5;241m=\u001B[39m{},\n\u001B[0;32m    110\u001B[0m     )\n",
      "\u001B[1;31mKeyboardInterrupt\u001B[0m: "
     ]
    }
   ],
   "execution_count": 4
  },
  {
   "metadata": {},
   "cell_type": "code",
   "outputs": [],
   "execution_count": null,
   "source": [
    "# Create directory for plots if it doesn't exist\n",
    "os.makedirs('distribution_plots', exist_ok=True)"
   ],
   "id": "62af7e30bd5e76b0"
  },
  {
   "metadata": {},
   "cell_type": "code",
   "outputs": [],
   "execution_count": null,
   "source": [
    "# Function for detailed outlier analysis\n",
    "def comprehensive_outlier_detection(spark_df, numeric_columns):\n",
    "    outlier_results = {}"
   ],
   "id": "101470c3aec05f41"
  },
  {
   "metadata": {},
   "cell_type": "markdown",
   "source": "OUTLIER",
   "id": "75544b72e5eb6774"
  },
  {
   "metadata": {},
   "cell_type": "code",
   "outputs": [],
   "execution_count": null,
   "source": [
    "# Function for detailed outlier analysis\n",
    "def comprehensive_outlier_detection(spark_df, numeric_columns):\n",
    "    outlier_results = {}\n",
    "    \n",
    "    # Convert to pandas for visualization\n",
    "    pandas_df = spark_df.toPandas()\n",
    "    \n",
    "    # Create a figure for boxplots\n",
    "    plt.figure(figsize=(15, 6))\n",
    "    \n",
    "    # Analyze each numeric column\n",
    "    for idx, column in enumerate(numeric_columns, 1):\n",
    "        # Calculate statistics using Spark\n",
    "        stats = spark_df.select(\n",
    "            mean(col(column)).alias('mean'),\n",
    "            stddev(col(column)).alias('stddev'),\n",
    "            expr(f'percentile_approx({column}, array(0.25, 0.75), 10000)').alias('quartiles')\n",
    "        ).collect()[0]\n",
    "        \n",
    "        # Extract values\n",
    "        q1 = float(stats['quartiles'][0])\n",
    "        q3 = float(stats['quartiles'][1])\n",
    "        iqr = q3 - q1\n",
    "        \n",
    "        # Define bounds\n",
    "        lower_bound = q1 - 1.5 * iqr\n",
    "        upper_bound = q3 + 1.5 * iqr\n",
    "        \n",
    "        # Count outliers using Spark\n",
    "        outliers_count = spark_df.filter(\n",
    "            (col(column) < lower_bound) | (col(column) > upper_bound)\n",
    "        ).count()\n",
    "        \n",
    "        # Get outlier rows\n",
    "        outliers = spark_df.filter(\n",
    "            (col(column) < lower_bound) | (col(column) > upper_bound)\n",
    "        ).toPandas()\n",
    "        \n",
    "        # Store results\n",
    "        outlier_results[column] = {\n",
    "            'total_outliers': outliers_count,\n",
    "            'percentage_outliers': (outliers_count / spark_df.count()) * 100,\n",
    "            'lower_bound': lower_bound,\n",
    "            'upper_bound': upper_bound,\n",
    "            'outliers': outliers\n",
    "        }\n",
    "        \n",
    "        # Print detailed outlier information\n",
    "        print(f\"\\nOutlier Analysis for {column}:\")\n",
    "        print(f\"Total Outliers: {outliers_count}\")\n",
    "        print(f\"Percentage of Outliers: {(outliers_count / spark_df.count()) * 100:.2f}%\")\n",
    "        print(f\"Lower Bound: {lower_bound}\")\n",
    "        print(f\"Upper Bound: {upper_bound}\")\n",
    "        \n",
    "        # If there are outliers, print them\n",
    "        if outliers_count > 0:\n",
    "            print(\"\\nOutlier Details:\")\n",
    "            print(outliers)\n",
    "        \n",
    "        # Create boxplot\n",
    "        plt.subplot(1, len(numeric_columns), idx)\n",
    "        sns.boxplot(x=pandas_df[column])\n",
    "        plt.title(f'Boxplot of {column}')\n",
    "    \n",
    "    # Save boxplot\n",
    "    plt.tight_layout()\n",
    "    plt.savefig('outliers_boxplot0.png')\n",
    "    plt.close()\n",
    "    \n",
    "    return outlier_results"
   ],
   "id": "f0e14aa725d81af3"
  },
  {
   "metadata": {},
   "cell_type": "markdown",
   "source": "1. DATA LOADING AND OVERVIEW",
   "id": "86e1ba11e99e3fce"
  },
  {
   "metadata": {},
   "cell_type": "code",
   "outputs": [],
   "execution_count": null,
   "source": [
    "# Read the CSV file\n",
    "df = spark.read.csv('NFLX.csv', header=True, inferSchema=True)"
   ],
   "id": "abfec872b4ef9fde"
  },
  {
   "metadata": {},
   "cell_type": "code",
   "outputs": [],
   "execution_count": null,
   "source": [
    "# Display basic information\n",
    "print(f\"Number of Rows: {df.count()}\")\n",
    "print(f\"Number of Columns: {len(df.columns)}\")\n",
    "print(\"\\nColumn Data Types:\")\n",
    "print(\"\\n\".join([f\"{field.name}: {field.dataType}\" for field in df.schema.fields]))"
   ],
   "id": "4a0c510bba6beb73"
  },
  {
   "metadata": {},
   "cell_type": "code",
   "outputs": [],
   "execution_count": null,
   "source": [
    "# OUTLIER DETECTION\n",
    "numeric_columns = [\"Open\", \"High\", \"Low\", \"Close\", \"Adj Close\", \"Volume\"]\n",
    "print(\"\\nPerforming Outlier Detection...\")\n",
    "outlier_analysis = comprehensive_outlier_detection(df, numeric_columns)"
   ],
   "id": "f29398970495a375"
  },
  {
   "metadata": {},
   "cell_type": "markdown",
   "source": "2. DATA QUALITY ASSESSMENT",
   "id": "d5e68bdd60fe810e"
  },
  {
   "metadata": {},
   "cell_type": "code",
   "outputs": [],
   "execution_count": null,
   "source": [
    "# Check for missing values\n",
    "def check_missing_values(df):\n",
    "    total_count = df.count()\n",
    "    missing_counts = []\n",
    "    for column in df.columns:\n",
    "        missing_count = df.filter(col(column).isNull()).count()\n",
    "        missing_counts.append((column, missing_count, (missing_count/total_count)*100))\n",
    "    \n",
    "    for column, count, percentage in missing_counts:\n",
    "        print(f\"{column}: {count} missing values ({percentage:.2f}%)\")\n",
    "\n",
    "print(\"\\nMissing Values:\")\n",
    "check_missing_values(df)"
   ],
   "id": "69663a6c7137e6c8"
  },
  {
   "metadata": {},
   "cell_type": "code",
   "outputs": [],
   "execution_count": null,
   "source": [
    "# Check for duplicates\n",
    "duplicate_count = df.count() - df.dropDuplicates().count()\n",
    "print(f\"\\nNumber of Duplicate Records: {duplicate_count}\")"
   ],
   "id": "5be0597bef694b46"
  },
  {
   "metadata": {},
   "cell_type": "markdown",
   "source": "3. DATA PREPROCESSING",
   "id": "dc7e13f140f9eaee"
  },
  {
   "metadata": {},
   "cell_type": "code",
   "outputs": [],
   "execution_count": null,
   "source": [
    "# Convert Date column to proper date type\n",
    "df = df.withColumn(\"Date\", col(\"Date\").cast(DateType()))"
   ],
   "id": "19edfa9d4647f379"
  },
  {
   "metadata": {},
   "cell_type": "code",
   "outputs": [],
   "execution_count": null,
   "source": [
    "# Convert string columns to double where appropriate\n",
    "for column in numeric_columns:\n",
    "    df = df.withColumn(column, col(column).cast(DoubleType()))"
   ],
   "id": "b5d18ea7b9f5924"
  },
  {
   "metadata": {},
   "cell_type": "code",
   "outputs": [],
   "execution_count": null,
   "source": [
    "# Handle missing values with interpolation\n",
    "# Note: In Spark, we'll use forward fill as a simple alternative to interpolation\n",
    "window_spec = Window.orderBy(\"Date\")\n",
    "for column in numeric_columns:\n",
    "    df = df.withColumn(column, \n",
    "                      coalesce(col(column), \n",
    "                              last(col(column), True).over(window_spec)))"
   ],
   "id": "72d8176f248c8c47"
  },
  {
   "metadata": {},
   "cell_type": "markdown",
   "source": "4. DESCRIPTIVE STATISTICS",
   "id": "b85c25641b217677"
  },
  {
   "metadata": {},
   "cell_type": "code",
   "outputs": [],
   "execution_count": null,
   "source": [
    "# Calculate summary statistics\n",
    "summary_stats = df.select([\n",
    "    mean(col(c)).alias(f\"{c}_mean\"),\n",
    "    stddev(col(c)).alias(f\"{c}_stddev\"),\n",
    "    min(col(c)).alias(f\"{c}_min\"),\n",
    "    max(col(c)).alias(f\"{c}_max\")\n",
    "] for c in numeric_columns).toPandas()\n",
    "\n",
    "print(\"\\nDescriptive Statistics:\")\n",
    "print(summary_stats)"
   ],
   "id": "aafadefc97c609c0"
  },
  {
   "metadata": {},
   "cell_type": "markdown",
   "source": "5. DISTRIBUTION ANALYSIS",
   "id": "accff6ace0748f56"
  },
  {
   "metadata": {},
   "cell_type": "code",
   "outputs": [],
   "execution_count": null,
   "source": [
    "# Convert to pandas for visualization\n",
    "pandas_df = df.toPandas()"
   ],
   "id": "52681080f0bb2f84"
  },
  {
   "metadata": {},
   "cell_type": "code",
   "outputs": [],
   "execution_count": null,
   "source": [
    "# Create distribution plots\n",
    "plt.figure(figsize=(15, 10))\n",
    "for i, col in enumerate(numeric_columns, 1):\n",
    "    plt.subplot(2, 3, i)\n",
    "    sns.histplot(data=pandas_df, x=col, kde=True)\n",
    "    plt.title(f'{col} Distribution')\n",
    "plt.tight_layout()\n",
    "plt.savefig('distribution_plots1/histograms1.png')\n",
    "plt.close()"
   ],
   "id": "46db3457cfc072c2"
  },
  {
   "metadata": {},
   "cell_type": "code",
   "outputs": [],
   "execution_count": null,
   "source": [
    "# Create box plots\n",
    "plt.figure(figsize=(15, 5))\n",
    "pandas_df[numeric_columns].boxplot()\n",
    "plt.title('Box Plot of Numeric Columns')\n",
    "plt.xticks(rotation=45)\n",
    "plt.tight_layout()\n",
    "plt.savefig('distribution_plots2/boxplots2.png')\n",
    "plt.close()"
   ],
   "id": "e8b66c3dbab23fb2"
  },
  {
   "metadata": {},
   "cell_type": "markdown",
   "source": "6. RELATIONSHIP EXPLORATION",
   "id": "ff7597d64196f7b1"
  },
  {
   "metadata": {},
   "cell_type": "code",
   "outputs": [],
   "execution_count": null,
   "source": [
    "# Calculate correlations\n",
    "correlations = []\n",
    "for col1 in numeric_columns:\n",
    "    for col2 in numeric_columns:\n",
    "        correlation = df.stat.corr(col1, col2)\n",
    "        correlations.append((col1, col2, correlation))"
   ],
   "id": "6579eb187e36f3dc"
  },
  {
   "metadata": {},
   "cell_type": "code",
   "outputs": [],
   "execution_count": null,
   "source": [
    "# Convert correlations to a pandas DataFrame for visualization\n",
    "correlation_df = pd.DataFrame(correlations, columns=['Column1', 'Column2', 'Correlation'])\n",
    "correlation_matrix = correlation_df.pivot(index='Column1', columns='Column2', values='Correlation')"
   ],
   "id": "c775829a0d97c864"
  },
  {
   "metadata": {},
   "cell_type": "code",
   "outputs": [],
   "execution_count": null,
   "source": [
    "# Create correlation heatmap\n",
    "plt.figure(figsize=(10, 8))\n",
    "sns.heatmap(correlation_matrix, annot=True, cmap='coolwarm', center=0)\n",
    "plt.title('Correlation Heatmap')\n",
    "plt.tight_layout()\n",
    "plt.savefig('distribution_plots3/correlation_heatmap3.png')\n",
    "plt.close()"
   ],
   "id": "b76941a01a228654"
  },
  {
   "metadata": {},
   "cell_type": "code",
   "outputs": [],
   "execution_count": null,
   "source": [
    "# Save processed data\n",
    "df.write.mode(\"overwrite\").csv(\"preprocessed_spark_data.csv\", header=True)\n",
    "print(\"\\nPreprocessed data saved to 'preprocessed_spark_data.csv'\")"
   ],
   "id": "e35d185d0e663504"
  },
  {
   "metadata": {},
   "cell_type": "code",
   "outputs": [],
   "execution_count": null,
   "source": [
    "# Stop Spark session\n",
    "spark.stop()"
   ],
   "id": "f36fc18919689570"
  }
 ],
 "metadata": {
  "kernelspec": {
   "display_name": "Python 3",
   "language": "python",
   "name": "python3"
  },
  "language_info": {
   "codemirror_mode": {
    "name": "ipython",
    "version": 2
   },
   "file_extension": ".py",
   "mimetype": "text/x-python",
   "name": "python",
   "nbconvert_exporter": "python",
   "pygments_lexer": "ipython2",
   "version": "2.7.6"
  }
 },
 "nbformat": 4,
 "nbformat_minor": 5
}
