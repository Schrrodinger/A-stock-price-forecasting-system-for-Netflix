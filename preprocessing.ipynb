{
 "cells": [
  {
   "cell_type": "code",
   "id": "initial_id",
   "metadata": {
    "collapsed": true,
    "ExecuteTime": {
     "end_time": "2024-12-12T10:32:57.790409Z",
     "start_time": "2024-12-12T10:32:57.775651Z"
    }
   },
   "source": [
    "import pandas as pd\n",
    "import numpy as np\n",
    "import matplotlib.pyplot as plt\n",
    "import seaborn as sns"
   ],
   "outputs": [],
   "execution_count": 44
  },
  {
   "metadata": {
    "ExecuteTime": {
     "end_time": "2024-12-12T10:32:57.806043Z",
     "start_time": "2024-12-12T10:32:57.790409Z"
    }
   },
   "cell_type": "code",
   "source": [
    "# Ensure plots show in the notebook\n",
    "%matplotlib inline"
   ],
   "id": "ba64365b4aa8bec1",
   "outputs": [],
   "execution_count": 45
  },
  {
   "metadata": {
    "ExecuteTime": {
     "end_time": "2024-12-12T10:32:57.837536Z",
     "start_time": "2024-12-12T10:32:57.821765Z"
    }
   },
   "cell_type": "code",
   "source": [
    "import os\n",
    "\n",
    "# Create directory for plots if it doesn't exist\n",
    "os.makedirs('distribution_plots', exist_ok=True)"
   ],
   "id": "1f5ac8583b83c23d",
   "outputs": [],
   "execution_count": 46
  },
  {
   "metadata": {
    "ExecuteTime": {
     "end_time": "2024-12-12T10:32:57.873431Z",
     "start_time": "2024-12-12T10:32:57.853188Z"
    }
   },
   "cell_type": "code",
   "source": [
    "# Read the CSV file\n",
    "df = pd.read_csv('NFLX.csv')"
   ],
   "id": "2b587c597352af72",
   "outputs": [],
   "execution_count": 47
  },
  {
   "metadata": {},
   "cell_type": "markdown",
   "source": "1. DATA OVERVIEW",
   "id": "8faf3c2c7ee127eb"
  },
  {
   "metadata": {
    "ExecuteTime": {
     "end_time": "2024-12-12T10:32:57.920777Z",
     "start_time": "2024-12-12T10:32:57.904746Z"
    }
   },
   "cell_type": "code",
   "source": [
    "print(f\"Number of Rows: {df.shape[0]}\")\n",
    "print(f\"Number of Columns: {df.shape[1]}\")\n",
    "print(\"\\nColumn Data Types:\")\n",
    "print(df.dtypes)"
   ],
   "id": "91d95cbfe002a2aa",
   "outputs": [
    {
     "name": "stdout",
     "output_type": "stream",
     "text": [
      "Number of Rows: 1009\n",
      "Number of Columns: 7\n",
      "\n",
      "Column Data Types:\n",
      "Date          object\n",
      "Open         float64\n",
      "High         float64\n",
      "Low          float64\n",
      "Close        float64\n",
      "Adj Close    float64\n",
      "Volume         int64\n",
      "dtype: object\n"
     ]
    }
   ],
   "execution_count": 48
  },
  {
   "metadata": {},
   "cell_type": "markdown",
   "source": "2. DATA QUALITY ASSESSMENT",
   "id": "9b0742d8fe52293a"
  },
  {
   "metadata": {
    "ExecuteTime": {
     "end_time": "2024-12-12T10:32:57.968414Z",
     "start_time": "2024-12-12T10:32:57.952575Z"
    }
   },
   "cell_type": "code",
   "source": [
    "# Check for missing values\n",
    "print(\"Missing Values:\")\n",
    "print(df.isnull().sum())"
   ],
   "id": "65cb9a16dc27038c",
   "outputs": [
    {
     "name": "stdout",
     "output_type": "stream",
     "text": [
      "Missing Values:\n",
      "Date         0\n",
      "Open         0\n",
      "High         0\n",
      "Low          0\n",
      "Close        0\n",
      "Adj Close    0\n",
      "Volume       0\n",
      "dtype: int64\n"
     ]
    }
   ],
   "execution_count": 49
  },
  {
   "metadata": {
    "ExecuteTime": {
     "end_time": "2024-12-12T10:32:58.031830Z",
     "start_time": "2024-12-12T10:32:58.017492Z"
    }
   },
   "cell_type": "code",
   "source": [
    "# Identify duplicate records\n",
    "duplicates = df.duplicated()\n",
    "print(f\"\\nNumber of Duplicate Records: {duplicates.sum()}\")\n",
    "if duplicates.sum() > 0:\n",
    "    print(\"Duplicate Rows:\")\n",
    "    print(df[duplicates])"
   ],
   "id": "e0a059b373c84b73",
   "outputs": [
    {
     "name": "stdout",
     "output_type": "stream",
     "text": [
      "\n",
      "Number of Duplicate Records: 0\n"
     ]
    }
   ],
   "execution_count": 50
  },
  {
   "metadata": {},
   "cell_type": "markdown",
   "source": "3. DATA PREPROCESSING",
   "id": "36c2d7eb898b77f8"
  },
  {
   "metadata": {
    "ExecuteTime": {
     "end_time": "2024-12-12T10:32:58.048059Z",
     "start_time": "2024-12-12T10:32:58.042830Z"
    }
   },
   "cell_type": "code",
   "source": [
    "# Convert Date column to datetime\n",
    "df['Date'] = pd.to_datetime(df['Date'])"
   ],
   "id": "de8b4eed34993efd",
   "outputs": [],
   "execution_count": 51
  },
  {
   "metadata": {
    "ExecuteTime": {
     "end_time": "2024-12-12T10:32:58.094872Z",
     "start_time": "2024-12-12T10:32:58.081356Z"
    }
   },
   "cell_type": "code",
   "source": [
    "# Interpolate missing values\n",
    "numeric_columns = df.select_dtypes(include=[np.number]).columns\n",
    "df_processed = df.copy()\n",
    "df_processed[numeric_columns] = df_processed[numeric_columns].interpolate()\n",
    "\n",
    "print(\"Preprocessing Complete:\")\n",
    "print(\"- Date column converted to datetime\")\n",
    "print(\"- Missing values interpolated\")"
   ],
   "id": "2f1a9d1388c8e0a3",
   "outputs": [
    {
     "name": "stdout",
     "output_type": "stream",
     "text": [
      "Preprocessing Complete:\n",
      "- Date column converted to datetime\n",
      "- Missing values interpolated\n"
     ]
    }
   ],
   "execution_count": 52
  },
  {
   "metadata": {
    "ExecuteTime": {
     "end_time": "2024-12-12T10:32:58.155621Z",
     "start_time": "2024-12-12T10:32:58.129002Z"
    }
   },
   "cell_type": "code",
   "source": [
    "# Save processed data\n",
    "df_processed.to_csv('preprocessed_exp.csv', index=False)\n",
    "print(\"\\nPreprocessed data saved to 'preprocessed_DATA.csv'\")"
   ],
   "id": "6045f644efb44c99",
   "outputs": [
    {
     "name": "stdout",
     "output_type": "stream",
     "text": [
      "\n",
      "Preprocessed data saved to 'preprocessed_DATA.csv'\n"
     ]
    }
   ],
   "execution_count": 53
  },
  {
   "metadata": {},
   "cell_type": "markdown",
   "source": "4. DESCRIPTIVE STATISTICS",
   "id": "ad86fdbcf7a482d5"
  },
  {
   "metadata": {
    "ExecuteTime": {
     "end_time": "2024-12-12T10:32:58.218324Z",
     "start_time": "2024-12-12T10:32:58.189048Z"
    }
   },
   "cell_type": "code",
   "source": [
    "# Detailed descriptive statistics\n",
    "desc_stats = df_processed[numeric_columns].describe()\n",
    "print(desc_stats)"
   ],
   "id": "d79b6c605b38bd8a",
   "outputs": [
    {
     "name": "stdout",
     "output_type": "stream",
     "text": [
      "              Open         High          Low        Close    Adj Close  \\\n",
      "count  1009.000000  1009.000000  1009.000000  1009.000000  1009.000000   \n",
      "mean    419.059673   425.320703   412.374044   419.000733   419.000733   \n",
      "std     108.537532   109.262960   107.555867   108.289999   108.289999   \n",
      "min     233.919998   250.649994   231.229996   233.880005   233.880005   \n",
      "25%     331.489990   336.299988   326.000000   331.619995   331.619995   \n",
      "50%     377.769989   383.010010   370.880005   378.670013   378.670013   \n",
      "75%     509.130005   515.630005   502.529999   509.079987   509.079987   \n",
      "max     692.349976   700.989990   686.090027   691.690002   691.690002   \n",
      "\n",
      "             Volume  \n",
      "count  1.009000e+03  \n",
      "mean   7.570685e+06  \n",
      "std    5.465535e+06  \n",
      "min    1.144000e+06  \n",
      "25%    4.091900e+06  \n",
      "50%    5.934500e+06  \n",
      "75%    9.322400e+06  \n",
      "max    5.890430e+07  \n"
     ]
    }
   ],
   "execution_count": 54
  },
  {
   "metadata": {},
   "cell_type": "markdown",
   "source": "5. DISTRIBUTION ANALYSIS",
   "id": "5301f95a6facc985"
  },
  {
   "metadata": {
    "ExecuteTime": {
     "end_time": "2024-12-12T10:32:59.228273Z",
     "start_time": "2024-12-12T10:32:58.242041Z"
    }
   },
   "cell_type": "code",
   "source": [
    "# 5. Distribution Analysis\n",
    "plt.figure(figsize=(15, 10))\n",
    "for i, col in enumerate(numeric_columns, 1):\n",
    "    plt.subplot(2, 3, i)\n",
    "    \n",
    "    # Histogram with KDE\n",
    "    sns.histplot(df_processed[col], kde=True)\n",
    "    plt.title(f'{col} Distribution')\n",
    "    plt.tight_layout()\n",
    "\n",
    "plt.savefig('distribution_plots/histograms.png')\n",
    "plt.close()"
   ],
   "id": "9f70f99b8d253d59",
   "outputs": [],
   "execution_count": 55
  },
  {
   "metadata": {
    "ExecuteTime": {
     "end_time": "2024-12-12T10:32:59.358824Z",
     "start_time": "2024-12-12T10:32:59.259695Z"
    }
   },
   "cell_type": "code",
   "source": [
    "# Box Plots\n",
    "plt.figure(figsize=(15, 5))\n",
    "df_processed[numeric_columns].plot(kind='box')\n",
    "plt.title('Box Plot of Numeric Columns')\n",
    "plt.tight_layout()\n",
    "plt.savefig('distribution_plots/boxplots.png')\n",
    "plt.close()"
   ],
   "id": "caf21c4894d52f56",
   "outputs": [
    {
     "data": {
      "text/plain": [
       "<Figure size 1080x360 with 0 Axes>"
      ]
     },
     "metadata": {},
     "output_type": "display_data"
    }
   ],
   "execution_count": 56
  },
  {
   "metadata": {},
   "cell_type": "markdown",
   "source": "6. RELATIONSHIP EXPLORATION",
   "id": "148ad8ef2a003df8"
  },
  {
   "metadata": {
    "ExecuteTime": {
     "end_time": "2024-12-12T10:32:59.455104Z",
     "start_time": "2024-12-12T10:32:59.426958Z"
    }
   },
   "cell_type": "code",
   "source": [
    "# 6. Relationship Exploration\n",
    "# Correlation Matrix\n",
    "correlation_matrix = df_processed[numeric_columns].corr()"
   ],
   "id": "98df002b0ce8f8cf",
   "outputs": [],
   "execution_count": 57
  },
  {
   "metadata": {
    "ExecuteTime": {
     "end_time": "2024-12-12T10:32:59.657919Z",
     "start_time": "2024-12-12T10:32:59.486802Z"
    }
   },
   "cell_type": "code",
   "source": [
    "# Correlation Heatmap\n",
    "plt.figure(figsize=(10, 8))\n",
    "sns.heatmap(correlation_matrix, annot=True, cmap='coolwarm', center=0)\n",
    "plt.title('Correlation Heatmap')\n",
    "plt.tight_layout()\n",
    "plt.savefig('distribution_plots/correlation_heatmap.png')\n",
    "plt.close()\n",
    "\n",
    "print(correlation_matrix)"
   ],
   "id": "8c308b672aee4714",
   "outputs": [
    {
     "name": "stdout",
     "output_type": "stream",
     "text": [
      "               Open      High       Low     Close  Adj Close    Volume\n",
      "Open       1.000000  0.998605  0.998508  0.996812   0.996812 -0.415838\n",
      "High       0.998605  1.000000  0.998203  0.998551   0.998551 -0.400699\n",
      "Low        0.998508  0.998203  1.000000  0.998544   0.998544 -0.432116\n",
      "Close      0.996812  0.998551  0.998544  1.000000   1.000000 -0.413362\n",
      "Adj Close  0.996812  0.998551  0.998544  1.000000   1.000000 -0.413362\n",
      "Volume    -0.415838 -0.400699 -0.432116 -0.413362  -0.413362  1.000000\n"
     ]
    }
   ],
   "execution_count": 58
  },
  {
   "metadata": {
    "ExecuteTime": {
     "end_time": "2024-12-12T10:32:59.757628Z",
     "start_time": "2024-12-12T10:32:59.741693Z"
    }
   },
   "cell_type": "code",
   "source": [
    "# Display the first few rows of processed data\n",
    "print(\"\\nProcessed Data Preview:\")\n",
    "display(df_processed.head())"
   ],
   "id": "46f0f8f62b46b176",
   "outputs": [
    {
     "name": "stdout",
     "output_type": "stream",
     "text": [
      "\n",
      "Processed Data Preview:\n"
     ]
    },
    {
     "data": {
      "text/plain": [
       "        Date        Open        High         Low       Close   Adj Close  \\\n",
       "0 2018-02-05  262.000000  267.899994  250.029999  254.259995  254.259995   \n",
       "1 2018-02-06  247.699997  266.700012  245.000000  265.720001  265.720001   \n",
       "2 2018-02-07  266.579987  272.450012  264.329987  264.559998  264.559998   \n",
       "3 2018-02-08  267.079987  267.619995  250.000000  250.100006  250.100006   \n",
       "4 2018-02-09  253.850006  255.800003  236.110001  249.470001  249.470001   \n",
       "\n",
       "     Volume  \n",
       "0  11896100  \n",
       "1  12595800  \n",
       "2   8981500  \n",
       "3   9306700  \n",
       "4  16906900  "
      ],
      "text/html": [
       "<div>\n",
       "<style scoped>\n",
       "    .dataframe tbody tr th:only-of-type {\n",
       "        vertical-align: middle;\n",
       "    }\n",
       "\n",
       "    .dataframe tbody tr th {\n",
       "        vertical-align: top;\n",
       "    }\n",
       "\n",
       "    .dataframe thead th {\n",
       "        text-align: right;\n",
       "    }\n",
       "</style>\n",
       "<table border=\"1\" class=\"dataframe\">\n",
       "  <thead>\n",
       "    <tr style=\"text-align: right;\">\n",
       "      <th></th>\n",
       "      <th>Date</th>\n",
       "      <th>Open</th>\n",
       "      <th>High</th>\n",
       "      <th>Low</th>\n",
       "      <th>Close</th>\n",
       "      <th>Adj Close</th>\n",
       "      <th>Volume</th>\n",
       "    </tr>\n",
       "  </thead>\n",
       "  <tbody>\n",
       "    <tr>\n",
       "      <th>0</th>\n",
       "      <td>2018-02-05</td>\n",
       "      <td>262.000000</td>\n",
       "      <td>267.899994</td>\n",
       "      <td>250.029999</td>\n",
       "      <td>254.259995</td>\n",
       "      <td>254.259995</td>\n",
       "      <td>11896100</td>\n",
       "    </tr>\n",
       "    <tr>\n",
       "      <th>1</th>\n",
       "      <td>2018-02-06</td>\n",
       "      <td>247.699997</td>\n",
       "      <td>266.700012</td>\n",
       "      <td>245.000000</td>\n",
       "      <td>265.720001</td>\n",
       "      <td>265.720001</td>\n",
       "      <td>12595800</td>\n",
       "    </tr>\n",
       "    <tr>\n",
       "      <th>2</th>\n",
       "      <td>2018-02-07</td>\n",
       "      <td>266.579987</td>\n",
       "      <td>272.450012</td>\n",
       "      <td>264.329987</td>\n",
       "      <td>264.559998</td>\n",
       "      <td>264.559998</td>\n",
       "      <td>8981500</td>\n",
       "    </tr>\n",
       "    <tr>\n",
       "      <th>3</th>\n",
       "      <td>2018-02-08</td>\n",
       "      <td>267.079987</td>\n",
       "      <td>267.619995</td>\n",
       "      <td>250.000000</td>\n",
       "      <td>250.100006</td>\n",
       "      <td>250.100006</td>\n",
       "      <td>9306700</td>\n",
       "    </tr>\n",
       "    <tr>\n",
       "      <th>4</th>\n",
       "      <td>2018-02-09</td>\n",
       "      <td>253.850006</td>\n",
       "      <td>255.800003</td>\n",
       "      <td>236.110001</td>\n",
       "      <td>249.470001</td>\n",
       "      <td>249.470001</td>\n",
       "      <td>16906900</td>\n",
       "    </tr>\n",
       "  </tbody>\n",
       "</table>\n",
       "</div>"
      ]
     },
     "metadata": {},
     "output_type": "display_data"
    }
   ],
   "execution_count": 59
  }
 ],
 "metadata": {
  "kernelspec": {
   "display_name": "Python 3",
   "language": "python",
   "name": "python3"
  },
  "language_info": {
   "codemirror_mode": {
    "name": "ipython",
    "version": 2
   },
   "file_extension": ".py",
   "mimetype": "text/x-python",
   "name": "python",
   "nbconvert_exporter": "python",
   "pygments_lexer": "ipython2",
   "version": "2.7.6"
  }
 },
 "nbformat": 4,
 "nbformat_minor": 5
}
