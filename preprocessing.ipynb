{
 "cells": [
  {
   "cell_type": "code",
   "id": "initial_id",
   "metadata": {
    "collapsed": true,
    "ExecuteTime": {
     "end_time": "2024-12-12T15:05:31.628444Z",
     "start_time": "2024-12-12T15:05:31.614446Z"
    }
   },
   "source": [
    "import pandas as pd\n",
    "import numpy as np\n",
    "import matplotlib.pyplot as plt\n",
    "import seaborn as sns"
   ],
   "outputs": [],
   "execution_count": 19
  },
  {
   "metadata": {
    "ExecuteTime": {
     "end_time": "2024-12-12T15:05:31.658963Z",
     "start_time": "2024-12-12T15:05:31.647962Z"
    }
   },
   "cell_type": "code",
   "source": [
    "# Ensure plots show in the notebook\n",
    "%matplotlib inline"
   ],
   "id": "ba64365b4aa8bec1",
   "outputs": [],
   "execution_count": 20
  },
  {
   "metadata": {
    "ExecuteTime": {
     "end_time": "2024-12-12T15:05:31.690110Z",
     "start_time": "2024-12-12T15:05:31.676008Z"
    }
   },
   "cell_type": "code",
   "source": [
    "import os\n",
    "\n",
    "# Create directory for plots if it doesn't exist\n",
    "os.makedirs('distribution_plots', exist_ok=True)"
   ],
   "id": "1f5ac8583b83c23d",
   "outputs": [],
   "execution_count": 21
  },
  {
   "metadata": {
    "ExecuteTime": {
     "end_time": "2024-12-12T15:05:31.721088Z",
     "start_time": "2024-12-12T15:05:31.712011Z"
    }
   },
   "cell_type": "code",
   "source": [
    "# Read the CSV file\n",
    "df = pd.read_csv('NFLX.csv')"
   ],
   "id": "2b587c597352af72",
   "outputs": [],
   "execution_count": 22
  },
  {
   "metadata": {},
   "cell_type": "markdown",
   "source": "CHECK OUTLIER",
   "id": "32a2f0fe7bc23246"
  },
  {
   "metadata": {
    "ExecuteTime": {
     "end_time": "2024-12-12T15:05:32.079187Z",
     "start_time": "2024-12-12T15:05:31.752989Z"
    }
   },
   "cell_type": "code",
   "source": [
    "# Function for detailed outlier analysis\n",
    "def comprehensive_outlier_detection(dataframe):\n",
    "    # Identify numeric columns\n",
    "    numeric_columns = dataframe.select_dtypes(include=[np.number]).columns\n",
    "    \n",
    "    # Create a figure for boxplots\n",
    "    plt.figure(figsize=(15, 6))\n",
    "    \n",
    "    # Outlier detection results dictionary\n",
    "    outlier_results = {}\n",
    "    \n",
    "    # Iterate through numeric columns\n",
    "    for col in numeric_columns:\n",
    "        # Calculate Q1, Q3, and IQR\n",
    "        Q1 = dataframe[col].quantile(0.25)\n",
    "        Q3 = dataframe[col].quantile(0.75)\n",
    "        IQR = Q3 - Q1\n",
    "        \n",
    "        # Define outlier bounds\n",
    "        lower_bound = Q1 - 1.5 * IQR\n",
    "        upper_bound = Q3 + 1.5 * IQR\n",
    "        \n",
    "        # Identify outliers\n",
    "        outliers = dataframe[(dataframe[col] < lower_bound) | (dataframe[col] > upper_bound)]\n",
    "        \n",
    "        # Store results\n",
    "        outlier_results[col] = {\n",
    "            'total_outliers': len(outliers),\n",
    "            'percentage_outliers': (len(outliers) / len(dataframe)) * 100,\n",
    "            'lower_bound': lower_bound,\n",
    "            'upper_bound': upper_bound,\n",
    "            'outliers': outliers\n",
    "        }\n",
    "        \n",
    "        # Print detailed outlier information\n",
    "        print(f\"\\nOutlier Analysis for {col}:\")\n",
    "        print(f\"Total Outliers: {len(outliers)}\")\n",
    "        print(f\"Percentage of Outliers: {(len(outliers) / len(dataframe)) * 100:.2f}%\")\n",
    "        print(f\"Lower Bound: {lower_bound}\")\n",
    "        print(f\"Upper Bound: {upper_bound}\")\n",
    "        \n",
    "        # If there are outliers, print them\n",
    "        if len(outliers) > 0:\n",
    "            print(\"\\nOutlier Details:\")\n",
    "            print(outliers)\n",
    "        \n",
    "        # Boxplot for visualization\n",
    "        plt.subplot(1, len(numeric_columns), list(numeric_columns).index(col) + 1)\n",
    "        sns.boxplot(x=dataframe[col])\n",
    "        plt.title(f'Boxplot of {col}')\n",
    "    \n",
    "    # Save boxplot\n",
    "    plt.tight_layout()\n",
    "    plt.savefig('outliers_boxplot.png')\n",
    "    plt.close()\n",
    "    \n",
    "    return outlier_results\n",
    "\n",
    "# Perform outlier detection\n",
    "outlier_analysis = comprehensive_outlier_detection(df)"
   ],
   "id": "43d4c55fe61e7f10",
   "outputs": [
    {
     "name": "stdout",
     "output_type": "stream",
     "text": [
      "\n",
      "Outlier Analysis for Open:\n",
      "Total Outliers: 0\n",
      "Percentage of Outliers: 0.00%\n",
      "Lower Bound: 65.02996749999994\n",
      "Upper Bound: 775.5900275\n",
      "\n",
      "Outlier Analysis for High:\n",
      "Total Outliers: 0\n",
      "Percentage of Outliers: 0.00%\n",
      "Lower Bound: 67.30496249999999\n",
      "Upper Bound: 784.6250305\n",
      "\n",
      "Outlier Analysis for Low:\n",
      "Total Outliers: 0\n",
      "Percentage of Outliers: 0.00%\n",
      "Lower Bound: 61.20500150000004\n",
      "Upper Bound: 767.3249974999999\n",
      "\n",
      "Outlier Analysis for Close:\n",
      "Total Outliers: 0\n",
      "Percentage of Outliers: 0.00%\n",
      "Lower Bound: 65.43000700000005\n",
      "Upper Bound: 775.2699749999999\n",
      "\n",
      "Outlier Analysis for Adj Close:\n",
      "Total Outliers: 0\n",
      "Percentage of Outliers: 0.00%\n",
      "Lower Bound: 65.43000700000005\n",
      "Upper Bound: 775.2699749999999\n",
      "\n",
      "Outlier Analysis for Volume:\n",
      "Total Outliers: 57\n",
      "Percentage of Outliers: 5.65%\n",
      "Lower Bound: -3753850.0\n",
      "Upper Bound: 17168150.0\n",
      "\n",
      "Outlier Details:\n",
      "            Date        Open        High         Low       Close   Adj Close  \\\n",
      "19    2018-03-05  302.850006  316.910004  297.600006  315.000000  315.000000   \n",
      "20    2018-03-06  319.880005  325.790009  316.500000  325.220001  325.220001   \n",
      "24    2018-03-12  333.559998  333.980011  318.600006  321.299988  321.299988   \n",
      "36    2018-03-28  298.390015  298.799988  281.609985  285.769989  285.769989   \n",
      "37    2018-03-29  287.000000  295.350006  275.899994  295.350006  295.350006   \n",
      "48    2018-04-16  315.989990  316.100006  304.000000  307.779999  307.779999   \n",
      "49    2018-04-17  329.660004  338.619995  323.769989  336.059998  336.059998   \n",
      "89    2018-06-13  367.529999  384.250000  364.109985  379.929993  379.929993   \n",
      "95    2018-06-21  421.380005  423.209991  406.369995  415.440002  415.440002   \n",
      "97    2018-06-25  404.690002  405.989990  378.750000  384.480011  384.480011   \n",
      "111   2018-07-16  398.980011  403.359985  391.750000  400.480011  400.480011   \n",
      "112   2018-07-17  346.950012  385.000000  344.000000  379.480011  379.480011   \n",
      "113   2018-07-18  381.239990  383.130005  372.359985  375.130005  375.130005   \n",
      "121   2018-07-30  351.929993  352.029999  334.019989  334.959991  334.959991   \n",
      "141   2018-08-27  367.149994  374.489990  360.000000  364.579987  364.579987   \n",
      "172   2018-10-10  353.519989  355.149994  325.390015  325.890015  325.890015   \n",
      "176   2018-10-16  337.239990  347.950012  330.559998  346.399994  346.399994   \n",
      "177   2018-10-17  378.329987  380.000000  356.500000  364.700012  364.700012   \n",
      "178   2018-10-18  360.670013  362.200012  346.049988  346.709991  346.709991   \n",
      "182   2018-10-24  332.279999  333.000000  300.730011  301.829987  301.829987   \n",
      "184   2018-10-26  300.510010  313.989990  292.299988  299.829987  299.829987   \n",
      "185   2018-10-29  305.260010  307.890015  275.399994  284.839996  284.839996   \n",
      "186   2018-10-30  275.570007  290.519989  271.209991  285.809998  285.809998   \n",
      "187   2018-10-31  297.769989  311.500000  295.049988  301.779999  301.779999   \n",
      "222   2018-12-21  263.829987  264.500000  241.289993  246.389999  246.389999   \n",
      "230   2019-01-04  281.880005  297.799988  278.540009  297.570007  297.570007   \n",
      "231   2019-01-07  302.100006  316.799988  301.649994  315.339996  315.339996   \n",
      "235   2019-01-11  330.959991  341.089996  328.519989  337.589996  337.589996   \n",
      "237   2019-01-15  349.600006  357.220001  347.000000  354.640015  354.640015   \n",
      "239   2019-01-17  349.500000  355.790009  346.410004  353.190002  353.190002   \n",
      "240   2019-01-18  351.970001  353.000000  336.730011  339.100006  339.100006   \n",
      "241   2019-01-22  334.890015  336.880005  321.029999  325.160004  325.160004   \n",
      "300   2019-04-16  355.000000  364.480011  352.720001  359.459991  359.459991   \n",
      "301   2019-04-17  365.049988  368.760010  350.600006  354.739990  354.739990   \n",
      "364   2019-07-18  323.760010  329.850006  320.299988  325.209991  325.209991   \n",
      "366   2019-07-22  312.000000  314.540009  305.809998  310.619995  310.619995   \n",
      "409   2019-09-20  280.260010  282.500000  266.000000  270.750000  270.750000   \n",
      "428   2019-10-17  304.489990  308.750000  288.299988  293.350006  293.350006   \n",
      "429   2019-10-18  289.359985  290.899994  273.359985  275.299988  275.299988   \n",
      "493   2020-01-22  332.549988  336.299988  323.600006  326.000000  326.000000   \n",
      "494   2020-01-23  326.040009  349.880005  325.010010  349.600006  349.600006   \n",
      "495   2020-01-24  348.459991  359.850006  345.880005  353.160004  353.160004   \n",
      "555   2020-04-21  444.769989  447.000000  425.600006  433.829987  433.829987   \n",
      "556   2020-04-22  429.730011  433.000000  413.000000  421.420013  421.420013   \n",
      "611   2020-07-10  519.729980  555.880005  511.279999  548.729980  548.729980   \n",
      "612   2020-07-13  567.979980  575.369995  520.960022  525.500000  525.500000   \n",
      "615   2020-07-16  526.479980  535.539978  504.359985  527.390015  527.390015   \n",
      "616   2020-07-17  494.869995  503.589996  484.140015  492.989990  492.989990   \n",
      "644   2020-08-26  492.500000  549.039978  492.079987  547.530029  547.530029   \n",
      "683   2020-10-21  501.029999  506.850006  488.250000  489.049988  489.049988   \n",
      "744   2021-01-20  565.419983  593.289978  556.859985  586.340027  586.340027   \n",
      "807   2021-04-21  508.000000  515.460022  503.600006  508.899994  508.899994   \n",
      "998   2022-01-21  400.429993  409.149994  379.989990  397.500000  397.500000   \n",
      "999   2022-01-24  383.910004  387.260010  351.459991  387.149994  387.149994   \n",
      "1002  2022-01-27  382.059998  394.799988  378.100006  386.700012  386.700012   \n",
      "1004  2022-01-31  401.970001  427.700012  398.200012  427.140015  427.140015   \n",
      "1005  2022-02-01  432.959991  458.480011  425.540009  457.130005  457.130005   \n",
      "\n",
      "        Volume  \n",
      "19    18986100  \n",
      "20    18525800  \n",
      "24    20369200  \n",
      "36    18972900  \n",
      "37    19145500  \n",
      "48    20307900  \n",
      "49    33866500  \n",
      "89    18222800  \n",
      "95    18389900  \n",
      "97    22490900  \n",
      "111   22960000  \n",
      "112   58410400  \n",
      "113   21746300  \n",
      "121   18260700  \n",
      "141   17427300  \n",
      "172   17183100  \n",
      "176   20156400  \n",
      "177   32610900  \n",
      "178   18461000  \n",
      "182   19039300  \n",
      "184   19616000  \n",
      "185   21698800  \n",
      "186   23685700  \n",
      "187   20360300  \n",
      "222   21397600  \n",
      "230   19330100  \n",
      "231   18620100  \n",
      "235   19500400  \n",
      "237   21181200  \n",
      "239   18871200  \n",
      "240   26621000  \n",
      "241   17941400  \n",
      "300   18740200  \n",
      "301   18054100  \n",
      "364   31287100  \n",
      "366   17718000  \n",
      "409   23832800  \n",
      "428   38258900  \n",
      "429   23429900  \n",
      "493   21730000  \n",
      "494   18200300  \n",
      "495   17939700  \n",
      "555   23177600  \n",
      "556   21084800  \n",
      "611   21605600  \n",
      "612   18399000  \n",
      "615   24499000  \n",
      "616   24991400  \n",
      "644   20373700  \n",
      "683   17405700  \n",
      "744   32637500  \n",
      "807   22897400  \n",
      "998   58904300  \n",
      "999   32346000  \n",
      "1002  24324700  \n",
      "1004  20047500  \n",
      "1005  22542300  \n"
     ]
    }
   ],
   "execution_count": 23
  },
  {
   "metadata": {},
   "cell_type": "markdown",
   "source": "1. DATA OVERVIEW",
   "id": "8faf3c2c7ee127eb"
  },
  {
   "metadata": {
    "ExecuteTime": {
     "end_time": "2024-12-12T15:05:32.126301Z",
     "start_time": "2024-12-12T15:05:32.111301Z"
    }
   },
   "cell_type": "code",
   "source": [
    "print(f\"Number of Rows: {df.shape[0]}\")\n",
    "print(f\"Number of Columns: {df.shape[1]}\")\n",
    "print(\"\\nColumn Data Types:\")\n",
    "print(df.dtypes)"
   ],
   "id": "91d95cbfe002a2aa",
   "outputs": [
    {
     "name": "stdout",
     "output_type": "stream",
     "text": [
      "Number of Rows: 1009\n",
      "Number of Columns: 7\n",
      "\n",
      "Column Data Types:\n",
      "Date          object\n",
      "Open         float64\n",
      "High         float64\n",
      "Low          float64\n",
      "Close        float64\n",
      "Adj Close    float64\n",
      "Volume         int64\n",
      "dtype: object\n"
     ]
    }
   ],
   "execution_count": 24
  },
  {
   "metadata": {},
   "cell_type": "markdown",
   "source": "2. DATA QUALITY ASSESSMENT",
   "id": "9b0742d8fe52293a"
  },
  {
   "metadata": {
    "ExecuteTime": {
     "end_time": "2024-12-12T15:05:32.172368Z",
     "start_time": "2024-12-12T15:05:32.157370Z"
    }
   },
   "cell_type": "code",
   "source": [
    "# Check for missing values\n",
    "print(\"Missing Values:\")\n",
    "print(df.isnull().sum())"
   ],
   "id": "65cb9a16dc27038c",
   "outputs": [
    {
     "name": "stdout",
     "output_type": "stream",
     "text": [
      "Missing Values:\n",
      "Date         0\n",
      "Open         0\n",
      "High         0\n",
      "Low          0\n",
      "Close        0\n",
      "Adj Close    0\n",
      "Volume       0\n",
      "dtype: int64\n"
     ]
    }
   ],
   "execution_count": 25
  },
  {
   "metadata": {
    "ExecuteTime": {
     "end_time": "2024-12-12T15:05:32.218853Z",
     "start_time": "2024-12-12T15:05:32.204369Z"
    }
   },
   "cell_type": "code",
   "source": [
    "# Identify duplicate records\n",
    "duplicates = df.duplicated()\n",
    "print(f\"\\nNumber of Duplicate Records: {duplicates.sum()}\")\n",
    "if duplicates.sum() > 0:\n",
    "    print(\"Duplicate Rows:\")\n",
    "    print(df[duplicates])"
   ],
   "id": "e0a059b373c84b73",
   "outputs": [
    {
     "name": "stdout",
     "output_type": "stream",
     "text": [
      "\n",
      "Number of Duplicate Records: 0\n"
     ]
    }
   ],
   "execution_count": 26
  },
  {
   "metadata": {},
   "cell_type": "markdown",
   "source": "3. DATA PREPROCESSING",
   "id": "36c2d7eb898b77f8"
  },
  {
   "metadata": {
    "ExecuteTime": {
     "end_time": "2024-12-12T15:05:32.266375Z",
     "start_time": "2024-12-12T15:05:32.251371Z"
    }
   },
   "cell_type": "code",
   "source": [
    "# Convert Date column to datetime\n",
    "df['Date'] = pd.to_datetime(df['Date'])"
   ],
   "id": "de8b4eed34993efd",
   "outputs": [],
   "execution_count": 27
  },
  {
   "metadata": {
    "ExecuteTime": {
     "end_time": "2024-12-12T15:05:32.314368Z",
     "start_time": "2024-12-12T15:05:32.300368Z"
    }
   },
   "cell_type": "code",
   "source": [
    "# Interpolate missing values\n",
    "numeric_columns = df.select_dtypes(include=[np.number]).columns\n",
    "df_processed = df.copy()\n",
    "df_processed[numeric_columns] = df_processed[numeric_columns].interpolate()\n",
    "\n",
    "print(\"Preprocessing Complete:\")\n",
    "print(\"- Date column converted to datetime\")\n",
    "print(\"- Missing values interpolated\")"
   ],
   "id": "2f1a9d1388c8e0a3",
   "outputs": [
    {
     "name": "stdout",
     "output_type": "stream",
     "text": [
      "Preprocessing Complete:\n",
      "- Date column converted to datetime\n",
      "- Missing values interpolated\n"
     ]
    }
   ],
   "execution_count": 28
  },
  {
   "metadata": {
    "ExecuteTime": {
     "end_time": "2024-12-12T15:05:32.376918Z",
     "start_time": "2024-12-12T15:05:32.346392Z"
    }
   },
   "cell_type": "code",
   "source": [
    "# Save processed data\n",
    "df_processed.to_csv('preprocessed_exp.csv', index=False)\n",
    "print(\"\\nPreprocessed data saved to 'preprocessed_DATA.csv'\")"
   ],
   "id": "6045f644efb44c99",
   "outputs": [
    {
     "name": "stdout",
     "output_type": "stream",
     "text": [
      "\n",
      "Preprocessed data saved to 'preprocessed_DATA.csv'\n"
     ]
    }
   ],
   "execution_count": 29
  },
  {
   "metadata": {},
   "cell_type": "markdown",
   "source": "4. DESCRIPTIVE STATISTICS",
   "id": "ad86fdbcf7a482d5"
  },
  {
   "metadata": {
    "ExecuteTime": {
     "end_time": "2024-12-12T15:05:32.424915Z",
     "start_time": "2024-12-12T15:05:32.409908Z"
    }
   },
   "cell_type": "code",
   "source": [
    "# Detailed descriptive statistics\n",
    "desc_stats = df_processed[numeric_columns].describe()\n",
    "print(desc_stats)"
   ],
   "id": "d79b6c605b38bd8a",
   "outputs": [
    {
     "name": "stdout",
     "output_type": "stream",
     "text": [
      "              Open         High          Low        Close    Adj Close  \\\n",
      "count  1009.000000  1009.000000  1009.000000  1009.000000  1009.000000   \n",
      "mean    419.059673   425.320703   412.374044   419.000733   419.000733   \n",
      "std     108.537532   109.262960   107.555867   108.289999   108.289999   \n",
      "min     233.919998   250.649994   231.229996   233.880005   233.880005   \n",
      "25%     331.489990   336.299988   326.000000   331.619995   331.619995   \n",
      "50%     377.769989   383.010010   370.880005   378.670013   378.670013   \n",
      "75%     509.130005   515.630005   502.529999   509.079987   509.079987   \n",
      "max     692.349976   700.989990   686.090027   691.690002   691.690002   \n",
      "\n",
      "             Volume  \n",
      "count  1.009000e+03  \n",
      "mean   7.570685e+06  \n",
      "std    5.465535e+06  \n",
      "min    1.144000e+06  \n",
      "25%    4.091900e+06  \n",
      "50%    5.934500e+06  \n",
      "75%    9.322400e+06  \n",
      "max    5.890430e+07  \n"
     ]
    }
   ],
   "execution_count": 30
  },
  {
   "metadata": {},
   "cell_type": "markdown",
   "source": "5. DISTRIBUTION ANALYSIS",
   "id": "5301f95a6facc985"
  },
  {
   "metadata": {
    "ExecuteTime": {
     "end_time": "2024-12-12T15:05:33.668941Z",
     "start_time": "2024-12-12T15:05:32.456436Z"
    }
   },
   "cell_type": "code",
   "source": [
    "# 5. Distribution Analysis\n",
    "plt.figure(figsize=(15, 10))\n",
    "for i, col in enumerate(numeric_columns, 1):\n",
    "    plt.subplot(2, 3, i)\n",
    "    \n",
    "    # Histogram with KDE\n",
    "    sns.histplot(df_processed[col], kde=True)\n",
    "    plt.title(f'{col} Distribution')\n",
    "    plt.tight_layout()\n",
    "\n",
    "plt.savefig('distribution_plots/histograms.png')\n",
    "plt.close()"
   ],
   "id": "9f70f99b8d253d59",
   "outputs": [],
   "execution_count": 31
  },
  {
   "metadata": {
    "ExecuteTime": {
     "end_time": "2024-12-12T15:05:33.809627Z",
     "start_time": "2024-12-12T15:05:33.701692Z"
    }
   },
   "cell_type": "code",
   "source": [
    "# Box Plots\n",
    "plt.figure(figsize=(15, 5))\n",
    "df_processed[numeric_columns].plot(kind='box')\n",
    "plt.title('Box Plot of Numeric Columns')\n",
    "plt.tight_layout()\n",
    "plt.savefig('distribution_plots/boxplots.png')\n",
    "plt.close()"
   ],
   "id": "caf21c4894d52f56",
   "outputs": [
    {
     "data": {
      "text/plain": [
       "<Figure size 1080x360 with 0 Axes>"
      ]
     },
     "metadata": {},
     "output_type": "display_data"
    }
   ],
   "execution_count": 32
  },
  {
   "metadata": {},
   "cell_type": "markdown",
   "source": "6. RELATIONSHIP EXPLORATION",
   "id": "148ad8ef2a003df8"
  },
  {
   "metadata": {
    "ExecuteTime": {
     "end_time": "2024-12-12T15:05:33.856776Z",
     "start_time": "2024-12-12T15:05:33.841245Z"
    }
   },
   "cell_type": "code",
   "source": [
    "# 6. Relationship Exploration\n",
    "# Correlation Matrix\n",
    "correlation_matrix = df_processed[numeric_columns].corr()"
   ],
   "id": "98df002b0ce8f8cf",
   "outputs": [],
   "execution_count": 33
  },
  {
   "metadata": {
    "ExecuteTime": {
     "end_time": "2024-12-12T15:05:34.201380Z",
     "start_time": "2024-12-12T15:05:33.888778Z"
    }
   },
   "cell_type": "code",
   "source": [
    "# Correlation Heatmap\n",
    "plt.figure(figsize=(10, 8))\n",
    "sns.heatmap(correlation_matrix, annot=True, cmap='coolwarm', center=0)\n",
    "plt.title('Correlation Heatmap')\n",
    "plt.tight_layout()\n",
    "plt.savefig('distribution_plots/correlation_heatmap.png')\n",
    "plt.close()\n",
    "\n",
    "print(correlation_matrix)"
   ],
   "id": "8c308b672aee4714",
   "outputs": [
    {
     "name": "stdout",
     "output_type": "stream",
     "text": [
      "               Open      High       Low     Close  Adj Close    Volume\n",
      "Open       1.000000  0.998605  0.998508  0.996812   0.996812 -0.415838\n",
      "High       0.998605  1.000000  0.998203  0.998551   0.998551 -0.400699\n",
      "Low        0.998508  0.998203  1.000000  0.998544   0.998544 -0.432116\n",
      "Close      0.996812  0.998551  0.998544  1.000000   1.000000 -0.413362\n",
      "Adj Close  0.996812  0.998551  0.998544  1.000000   1.000000 -0.413362\n",
      "Volume    -0.415838 -0.400699 -0.432116 -0.413362  -0.413362  1.000000\n"
     ]
    }
   ],
   "execution_count": 34
  },
  {
   "metadata": {
    "ExecuteTime": {
     "end_time": "2024-12-12T15:05:34.247318Z",
     "start_time": "2024-12-12T15:05:34.233312Z"
    }
   },
   "cell_type": "code",
   "source": [
    "# Display the first few rows of processed data\n",
    "print(\"\\nProcessed Data Preview:\")\n",
    "display(df_processed.head())"
   ],
   "id": "46f0f8f62b46b176",
   "outputs": [
    {
     "name": "stdout",
     "output_type": "stream",
     "text": [
      "\n",
      "Processed Data Preview:\n"
     ]
    },
    {
     "data": {
      "text/plain": [
       "        Date        Open        High         Low       Close   Adj Close  \\\n",
       "0 2018-02-05  262.000000  267.899994  250.029999  254.259995  254.259995   \n",
       "1 2018-02-06  247.699997  266.700012  245.000000  265.720001  265.720001   \n",
       "2 2018-02-07  266.579987  272.450012  264.329987  264.559998  264.559998   \n",
       "3 2018-02-08  267.079987  267.619995  250.000000  250.100006  250.100006   \n",
       "4 2018-02-09  253.850006  255.800003  236.110001  249.470001  249.470001   \n",
       "\n",
       "     Volume  \n",
       "0  11896100  \n",
       "1  12595800  \n",
       "2   8981500  \n",
       "3   9306700  \n",
       "4  16906900  "
      ],
      "text/html": [
       "<div>\n",
       "<style scoped>\n",
       "    .dataframe tbody tr th:only-of-type {\n",
       "        vertical-align: middle;\n",
       "    }\n",
       "\n",
       "    .dataframe tbody tr th {\n",
       "        vertical-align: top;\n",
       "    }\n",
       "\n",
       "    .dataframe thead th {\n",
       "        text-align: right;\n",
       "    }\n",
       "</style>\n",
       "<table border=\"1\" class=\"dataframe\">\n",
       "  <thead>\n",
       "    <tr style=\"text-align: right;\">\n",
       "      <th></th>\n",
       "      <th>Date</th>\n",
       "      <th>Open</th>\n",
       "      <th>High</th>\n",
       "      <th>Low</th>\n",
       "      <th>Close</th>\n",
       "      <th>Adj Close</th>\n",
       "      <th>Volume</th>\n",
       "    </tr>\n",
       "  </thead>\n",
       "  <tbody>\n",
       "    <tr>\n",
       "      <th>0</th>\n",
       "      <td>2018-02-05</td>\n",
       "      <td>262.000000</td>\n",
       "      <td>267.899994</td>\n",
       "      <td>250.029999</td>\n",
       "      <td>254.259995</td>\n",
       "      <td>254.259995</td>\n",
       "      <td>11896100</td>\n",
       "    </tr>\n",
       "    <tr>\n",
       "      <th>1</th>\n",
       "      <td>2018-02-06</td>\n",
       "      <td>247.699997</td>\n",
       "      <td>266.700012</td>\n",
       "      <td>245.000000</td>\n",
       "      <td>265.720001</td>\n",
       "      <td>265.720001</td>\n",
       "      <td>12595800</td>\n",
       "    </tr>\n",
       "    <tr>\n",
       "      <th>2</th>\n",
       "      <td>2018-02-07</td>\n",
       "      <td>266.579987</td>\n",
       "      <td>272.450012</td>\n",
       "      <td>264.329987</td>\n",
       "      <td>264.559998</td>\n",
       "      <td>264.559998</td>\n",
       "      <td>8981500</td>\n",
       "    </tr>\n",
       "    <tr>\n",
       "      <th>3</th>\n",
       "      <td>2018-02-08</td>\n",
       "      <td>267.079987</td>\n",
       "      <td>267.619995</td>\n",
       "      <td>250.000000</td>\n",
       "      <td>250.100006</td>\n",
       "      <td>250.100006</td>\n",
       "      <td>9306700</td>\n",
       "    </tr>\n",
       "    <tr>\n",
       "      <th>4</th>\n",
       "      <td>2018-02-09</td>\n",
       "      <td>253.850006</td>\n",
       "      <td>255.800003</td>\n",
       "      <td>236.110001</td>\n",
       "      <td>249.470001</td>\n",
       "      <td>249.470001</td>\n",
       "      <td>16906900</td>\n",
       "    </tr>\n",
       "  </tbody>\n",
       "</table>\n",
       "</div>"
      ]
     },
     "metadata": {},
     "output_type": "display_data"
    }
   ],
   "execution_count": 35
  }
 ],
 "metadata": {
  "kernelspec": {
   "display_name": "Python 3",
   "language": "python",
   "name": "python3"
  },
  "language_info": {
   "codemirror_mode": {
    "name": "ipython",
    "version": 2
   },
   "file_extension": ".py",
   "mimetype": "text/x-python",
   "name": "python",
   "nbconvert_exporter": "python",
   "pygments_lexer": "ipython2",
   "version": "2.7.6"
  }
 },
 "nbformat": 4,
 "nbformat_minor": 5
}
